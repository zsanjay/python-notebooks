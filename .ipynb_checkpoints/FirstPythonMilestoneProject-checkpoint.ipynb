{
 "cells": [
  {
   "cell_type": "markdown",
   "id": "72f94e90-2653-4013-919c-c2f877a1618e",
   "metadata": {},
   "source": [
    "Step 1: Write a function that can print out a board. Set up your board as a list, where each index 1-9 corresponds with a number on a number pad, so you get a 3 by 3 board representation."
   ]
  },
  {
   "cell_type": "code",
   "execution_count": 1,
   "id": "47080b1b-2301-4e14-9026-2e919d540326",
   "metadata": {},
   "outputs": [],
   "source": [
    "from IPython.display import clear_output\n",
    "\n",
    "def display_board(board):\n",
    "    clear_output()\n",
    "    print(board[7] + \"|\" + board[8] + \"|\" + board[9])\n",
    "    print(board[4] + \"|\" + board[5] + \"|\" + board[6])\n",
    "    print(board[1] + \"|\" + board[2] + \"|\" + board[3])\n"
   ]
  },
  {
   "cell_type": "code",
   "execution_count": 3,
   "id": "af82202a-6357-4871-9bf6-c71c4b4870ea",
   "metadata": {},
   "outputs": [
    {
     "name": "stdout",
     "output_type": "stream",
     "text": [
      " | | \n",
      " | | \n",
      " | | \n"
     ]
    }
   ],
   "source": [
    "test_board = ['#',' ',' ',' ',' ',' ',' ',' ',' ',' ']\n",
    "display_board(test_board)"
   ]
  },
  {
   "cell_type": "code",
   "execution_count": 5,
   "id": "54d9b03c-ac14-4f41-aa0c-8fabe412f7b5",
   "metadata": {},
   "outputs": [],
   "source": [
    "def player_input():\n",
    "    input_range = range(1,10)\n",
    "    num = 'wrong'\n",
    "    while num not in input_range:\n",
    "        num = input('Please enter the number between 1 to 9 :')\n",
    "        if num.isdigit():\n",
    "           num = int(num) \n",
    "        if num not in input_range:\n",
    "            print(\"Input is wrong!.Please enter the number between 1 to 9\")\n",
    "            \n",
    "    return num"
   ]
  },
  {
   "cell_type": "code",
   "execution_count": 31,
   "id": "436cdc32-0add-4236-9961-7c83a8107cf7",
   "metadata": {},
   "outputs": [
    {
     "name": "stdin",
     "output_type": "stream",
     "text": [
      "Please enter the number between 1 to 9 : 3\n"
     ]
    },
    {
     "data": {
      "text/plain": [
       "3"
      ]
     },
     "execution_count": 31,
     "metadata": {},
     "output_type": "execute_result"
    }
   ],
   "source": [
    "player_input()"
   ]
  },
  {
   "cell_type": "code",
   "execution_count": 7,
   "id": "4c92f66d-bd4d-42ba-982a-dae61fd9bfe0",
   "metadata": {},
   "outputs": [],
   "source": [
    "def place_marker(board, marker, position):\n",
    "    if marker not in ['X' ,'O']:\n",
    "        print(\"Marker should be X or O\")\n",
    "    else:\n",
    "        board[position] = marker"
   ]
  },
  {
   "cell_type": "code",
   "execution_count": 19,
   "id": "5684b79e-0807-43a2-b730-918e11f8e412",
   "metadata": {},
   "outputs": [
    {
     "name": "stdout",
     "output_type": "stream",
     "text": [
      "Marker should be X or O\n"
     ]
    }
   ],
   "source": [
    "place_marker(test_board,'$',8)"
   ]
  },
  {
   "cell_type": "code",
   "execution_count": 9,
   "id": "3b57e793-fc77-477f-b5ca-178c83124614",
   "metadata": {},
   "outputs": [
    {
     "name": "stdout",
     "output_type": "stream",
     "text": [
      " | | \n",
      " |X| \n",
      " | | \n"
     ]
    }
   ],
   "source": [
    "place_marker(test_board,'X',5)\n",
    "display_board(test_board)"
   ]
  },
  {
   "cell_type": "code",
   "execution_count": 9,
   "id": "93d12696-cea3-4685-aaba-9e736ceac9e1",
   "metadata": {},
   "outputs": [],
   "source": [
    "def win_check(board, mark):\n",
    "    if board[1] == mark and board[2] == mark and board[3] == mark:\n",
    "        return True\n",
    "    elif board[4] == mark and board[5] == mark and board[6] == mark:\n",
    "        return True\n",
    "    elif board[7] == mark and board[8] == mark and board[9] == mark:\n",
    "        return True\n",
    "    elif board[1] == mark and board[4] == mark and board[7] == mark:\n",
    "        return True\n",
    "    elif board[3] == mark and board[6] == mark and board[9] == mark:\n",
    "        return True\n",
    "    elif board[1] == mark and board[5] == mark and board[9] == mark:\n",
    "        return True\n",
    "    elif board[3] == mark and board[5] == mark and board[7] == mark:\n",
    "        return True\n",
    "    else:\n",
    "        return False"
   ]
  },
  {
   "cell_type": "code",
   "execution_count": 25,
   "id": "ede955df-5e81-4d4b-90d7-3316b46baac6",
   "metadata": {},
   "outputs": [
    {
     "data": {
      "text/plain": [
       "False"
      ]
     },
     "execution_count": 25,
     "metadata": {},
     "output_type": "execute_result"
    }
   ],
   "source": [
    "win_check(test_board,'X')"
   ]
  },
  {
   "cell_type": "code",
   "execution_count": 27,
   "id": "d2b8f796-4da7-4394-b1ed-99e88d069ad2",
   "metadata": {},
   "outputs": [
    {
     "data": {
      "text/plain": [
       "False"
      ]
     },
     "execution_count": 27,
     "metadata": {},
     "output_type": "execute_result"
    }
   ],
   "source": [
    "win_check(test_board,'O')"
   ]
  },
  {
   "cell_type": "code",
   "execution_count": 11,
   "id": "9e37f268-d758-4930-ae06-5fd5eeef1607",
   "metadata": {},
   "outputs": [],
   "source": [
    "import random\n",
    "\n",
    "def choose_first():\n",
    "    return random.randint(1,2)"
   ]
  },
  {
   "cell_type": "code",
   "execution_count": 11,
   "id": "c5089b51-8150-4ee7-8b93-786d5dfe9862",
   "metadata": {},
   "outputs": [
    {
     "name": "stdout",
     "output_type": "stream",
     "text": [
      "1\n"
     ]
    }
   ],
   "source": [
    "print(choose_first())"
   ]
  },
  {
   "cell_type": "code",
   "execution_count": 13,
   "id": "4e8a7773-3dfa-4694-a4f0-b42603cba7f6",
   "metadata": {},
   "outputs": [],
   "source": [
    "def space_check(board, position):\n",
    "    return board[position] == \" \"\n",
    "    "
   ]
  },
  {
   "cell_type": "code",
   "execution_count": 35,
   "id": "96f89a57-86e0-4317-aa93-cf397edeecc1",
   "metadata": {},
   "outputs": [
    {
     "data": {
      "text/plain": [
       "True"
      ]
     },
     "execution_count": 35,
     "metadata": {},
     "output_type": "execute_result"
    }
   ],
   "source": [
    "space_check(test_board, 4)"
   ]
  },
  {
   "cell_type": "code",
   "execution_count": 37,
   "id": "e3d5dc63-b30d-4280-a28c-f005f6cc6120",
   "metadata": {},
   "outputs": [
    {
     "name": "stdout",
     "output_type": "stream",
     "text": [
      " | | \n",
      " |X| \n",
      " | | \n"
     ]
    }
   ],
   "source": [
    "display_board(test_board)"
   ]
  },
  {
   "cell_type": "code",
   "execution_count": 15,
   "id": "de77a051-9272-4ce1-89de-f7b672847379",
   "metadata": {},
   "outputs": [],
   "source": [
    "def full_board_check(board):\n",
    "    for position in range(1,len(board)):\n",
    "        if space_check(board, position):\n",
    "            return False\n",
    "    return True        "
   ]
  },
  {
   "cell_type": "code",
   "execution_count": 41,
   "id": "1e3e22b5-5c37-4005-84a1-5ecf69ac6ccb",
   "metadata": {},
   "outputs": [
    {
     "data": {
      "text/plain": [
       "False"
      ]
     },
     "execution_count": 41,
     "metadata": {},
     "output_type": "execute_result"
    }
   ],
   "source": [
    "full_board_check(test_board)"
   ]
  },
  {
   "cell_type": "code",
   "execution_count": 17,
   "id": "e3a68033-b237-4ead-8be8-bd064dbc9cae",
   "metadata": {},
   "outputs": [],
   "source": [
    "def player_choice(board):\n",
    "    position = player_input()\n",
    "    if space_check(board, position):\n",
    "        return position\n",
    "    else:\n",
    "        print(\"Position is already filled. Please try again!\")\n",
    "        return -1\n",
    "    "
   ]
  },
  {
   "cell_type": "code",
   "execution_count": 47,
   "id": "148295fb-2e0f-4509-b318-351818467199",
   "metadata": {},
   "outputs": [
    {
     "name": "stdin",
     "output_type": "stream",
     "text": [
      "Please enter the number between 1 to 9 : 4\n"
     ]
    },
    {
     "data": {
      "text/plain": [
       "4"
      ]
     },
     "execution_count": 47,
     "metadata": {},
     "output_type": "execute_result"
    }
   ],
   "source": [
    "player_choice(test_board)"
   ]
  },
  {
   "cell_type": "code",
   "execution_count": 19,
   "id": "fadc31aa-11a8-4d27-8e95-62fe263c7a42",
   "metadata": {},
   "outputs": [],
   "source": [
    "def replay():\n",
    "    gameOn = 'Wrong'\n",
    "    while gameOn not in ['Y','N']:\n",
    "        gameOn = input(\"Do you want to play again, enter Y for Yes or N for No.\")\n",
    "        if gameOn not in ['Y','N']:\n",
    "            print(\"Please choose the correct option.\")\n",
    "            \n",
    "    return gameOn == 'Y'"
   ]
  },
  {
   "cell_type": "code",
   "execution_count": 7,
   "id": "9040ec6d-1793-4474-84f8-399abc0b3736",
   "metadata": {},
   "outputs": [
    {
     "name": "stdin",
     "output_type": "stream",
     "text": [
      "Do you want to play again, enter Y for Yes or N for No. N\n"
     ]
    },
    {
     "data": {
      "text/plain": [
       "False"
      ]
     },
     "execution_count": 7,
     "metadata": {},
     "output_type": "execute_result"
    }
   ],
   "source": [
    "replay()"
   ]
  },
  {
   "cell_type": "code",
   "execution_count": 21,
   "id": "a114e52e-bb2f-4a45-b779-882dd9749429",
   "metadata": {},
   "outputs": [
    {
     "name": "stdout",
     "output_type": "stream",
     "text": [
      "O| |X\n",
      "O|X|O\n",
      "X| | \n",
      "Player 1 Wins!!\n"
     ]
    },
    {
     "name": "stdin",
     "output_type": "stream",
     "text": [
      "Do you want to play again, enter Y for Yes or N for No. N\n"
     ]
    }
   ],
   "source": [
    "print('Welcome to Tic Tac Toe!')\n",
    "gameOn = True\n",
    "\n",
    "while gameOn:\n",
    "    board = ['#',' ',' ',' ',' ',' ',' ',' ',' ',' ']\n",
    "    display_board(board)\n",
    "\n",
    "    print(\"Choosing the Player!!\")\n",
    "    turn = choose_first()\n",
    "    sign = \"-\"\n",
    "    if turn == 1:\n",
    "        print(\"Player 1  turns and sign is X\")\n",
    "        sign = \"X\"\n",
    "    else:\n",
    "        print(\"Player 2 turns and sign is O\")\n",
    "        sign = \"O\"\n",
    "\n",
    "    position = player_choice(board)\n",
    "    while not full_board_check(board):\n",
    "        if turn == 1:\n",
    "            place_marker(board , sign , position)\n",
    "            display_board(board)\n",
    "            turn = 2\n",
    "            if win_check(board , sign):\n",
    "                print(\"Player 1 Wins!!\")\n",
    "                break;\n",
    "            else:\n",
    "                print(\"Player 2 turns and sign is O\")\n",
    "            sign = \"O\"    \n",
    "        else:\n",
    "            place_marker(board , sign , position)\n",
    "            display_board(board)\n",
    "            turn = 1\n",
    "            if win_check(board , sign):\n",
    "                print(\"Player 2 Wins!!\")\n",
    "                break;\n",
    "            else:\n",
    "                print(\"Player 1 turns and sign is X\")\n",
    "            sign = \"X\"    \n",
    "                \n",
    "        position = player_choice(board)\n",
    "\n",
    "    if not replay():\n",
    "        gameOn = False\n",
    "        "
   ]
  }
 ],
 "metadata": {
  "kernelspec": {
   "display_name": "Python 3 (ipykernel)",
   "language": "python",
   "name": "python3"
  },
  "language_info": {
   "codemirror_mode": {
    "name": "ipython",
    "version": 3
   },
   "file_extension": ".py",
   "mimetype": "text/x-python",
   "name": "python",
   "nbconvert_exporter": "python",
   "pygments_lexer": "ipython3",
   "version": "3.11.7"
  }
 },
 "nbformat": 4,
 "nbformat_minor": 5
}
