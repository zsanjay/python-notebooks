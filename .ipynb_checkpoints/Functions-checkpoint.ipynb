{
 "cells": [
  {
   "cell_type": "code",
   "execution_count": 5,
   "id": "4c5ebaea-4fcb-4380-a47e-1961028f03e0",
   "metadata": {},
   "outputs": [],
   "source": [
    "def say_hello():\n",
    "    print('Hello')\n",
    "    print('How')\n",
    "    print('are')\n",
    "    print('you?')"
   ]
  },
  {
   "cell_type": "code",
   "execution_count": 7,
   "id": "ff7f8179-639f-426a-8441-afeb553a6146",
   "metadata": {},
   "outputs": [
    {
     "name": "stdout",
     "output_type": "stream",
     "text": [
      "Hello\n",
      "How\n",
      "are\n",
      "you?\n"
     ]
    }
   ],
   "source": [
    "say_hello()"
   ]
  },
  {
   "cell_type": "code",
   "execution_count": 9,
   "id": "39a64ff3-8f84-48b5-9bb1-db303ce6c24b",
   "metadata": {},
   "outputs": [],
   "source": [
    "def say_hello(name):\n",
    "    print(f'Hello {name}')"
   ]
  },
  {
   "cell_type": "code",
   "execution_count": 13,
   "id": "935fc141-bcde-4a89-9002-81e1f7c8c714",
   "metadata": {},
   "outputs": [
    {
     "name": "stdout",
     "output_type": "stream",
     "text": [
      "Hello Sanjay!\n"
     ]
    }
   ],
   "source": [
    "say_hello('Sanjay!')"
   ]
  },
  {
   "cell_type": "code",
   "execution_count": 15,
   "id": "7e8122dc-d974-4605-b3fc-f0b7f6892cf4",
   "metadata": {},
   "outputs": [],
   "source": [
    "def say_hello(name = 'Default'):\n",
    "    print(f'Hello {name}')"
   ]
  },
  {
   "cell_type": "code",
   "execution_count": 17,
   "id": "71cb9c39-5ba0-4373-97c7-a0e48e58275f",
   "metadata": {},
   "outputs": [
    {
     "name": "stdout",
     "output_type": "stream",
     "text": [
      "Hello Default\n"
     ]
    }
   ],
   "source": [
    "say_hello()"
   ]
  },
  {
   "cell_type": "code",
   "execution_count": 19,
   "id": "ff5addca-308c-4fbd-ae52-5e7cd7d630a9",
   "metadata": {},
   "outputs": [],
   "source": [
    "def add_num(num1,num2):\n",
    "    return num1 + num2"
   ]
  },
  {
   "cell_type": "code",
   "execution_count": 21,
   "id": "8413e551-8be0-4021-999f-4a99acef6337",
   "metadata": {},
   "outputs": [],
   "source": [
    "result = add_num(10,20)"
   ]
  },
  {
   "cell_type": "code",
   "execution_count": 23,
   "id": "10697511-5cfe-4740-b57d-31f70d546bb3",
   "metadata": {},
   "outputs": [
    {
     "data": {
      "text/plain": [
       "30"
      ]
     },
     "execution_count": 23,
     "metadata": {},
     "output_type": "execute_result"
    }
   ],
   "source": [
    "result"
   ]
  },
  {
   "cell_type": "code",
   "execution_count": 25,
   "id": "60605906-ffb9-4c39-a25e-06f66e85461c",
   "metadata": {},
   "outputs": [],
   "source": [
    "def print_result(a,b):\n",
    "    print(a + b)"
   ]
  },
  {
   "cell_type": "code",
   "execution_count": 27,
   "id": "dfbb5412-0b6e-4744-a45f-1c4d3c30ae8e",
   "metadata": {},
   "outputs": [
    {
     "name": "stdout",
     "output_type": "stream",
     "text": [
      "30\n"
     ]
    }
   ],
   "source": [
    "print_result(10,20)"
   ]
  },
  {
   "cell_type": "code",
   "execution_count": 29,
   "id": "94a2a399-bdab-4159-9d5c-2e981f4027a5",
   "metadata": {},
   "outputs": [],
   "source": [
    "def return_result(a,b):\n",
    "    return a + b"
   ]
  },
  {
   "cell_type": "code",
   "execution_count": 31,
   "id": "b5e711e7-0794-4120-8280-a05246cb8469",
   "metadata": {},
   "outputs": [],
   "source": [
    "result = return_result(30,40)"
   ]
  },
  {
   "cell_type": "code",
   "execution_count": 33,
   "id": "2324116d-a06e-42f7-a181-61eb7e951048",
   "metadata": {},
   "outputs": [
    {
     "data": {
      "text/plain": [
       "70"
      ]
     },
     "execution_count": 33,
     "metadata": {},
     "output_type": "execute_result"
    }
   ],
   "source": [
    "result"
   ]
  },
  {
   "cell_type": "code",
   "execution_count": 35,
   "id": "aa65a910-6992-4c8f-aaaf-ab59ca7034c4",
   "metadata": {},
   "outputs": [
    {
     "data": {
      "text/plain": [
       "20"
      ]
     },
     "execution_count": 35,
     "metadata": {},
     "output_type": "execute_result"
    }
   ],
   "source": [
    "40 // 2"
   ]
  },
  {
   "cell_type": "code",
   "execution_count": 37,
   "id": "2498aa7d-e49d-4495-8d02-1f342a40d809",
   "metadata": {},
   "outputs": [
    {
     "data": {
      "text/plain": [
       "20.0"
      ]
     },
     "execution_count": 37,
     "metadata": {},
     "output_type": "execute_result"
    }
   ],
   "source": [
    "40 / 2"
   ]
  },
  {
   "cell_type": "code",
   "execution_count": 39,
   "id": "395ee965-072a-4268-86e4-6e91d4a0d0fd",
   "metadata": {},
   "outputs": [
    {
     "data": {
      "text/plain": [
       "13.333333333333334"
      ]
     },
     "execution_count": 39,
     "metadata": {},
     "output_type": "execute_result"
    }
   ],
   "source": [
    "40 / 3"
   ]
  },
  {
   "cell_type": "markdown",
   "id": "477585e0-2367-4fc8-9156-e6b31b3fb4a0",
   "metadata": {},
   "source": [
    "Use // to divide the number and get result as int instead of float when using /"
   ]
  },
  {
   "cell_type": "code",
   "execution_count": 41,
   "id": "5cde696f-c106-42f0-a29b-a08069fc930a",
   "metadata": {},
   "outputs": [
    {
     "data": {
      "text/plain": [
       "13"
      ]
     },
     "execution_count": 41,
     "metadata": {},
     "output_type": "execute_result"
    }
   ],
   "source": [
    "40 // 3"
   ]
  },
  {
   "cell_type": "code",
   "execution_count": 44,
   "id": "763cac52-7c15-446e-951c-06648087f649",
   "metadata": {},
   "outputs": [],
   "source": [
    "def even_check(num):\n",
    "    result = num % 2 == 0\n",
    "    return result"
   ]
  },
  {
   "cell_type": "code",
   "execution_count": 46,
   "id": "df1baf66-c42f-4052-a666-cb261a5f94d8",
   "metadata": {},
   "outputs": [
    {
     "data": {
      "text/plain": [
       "True"
      ]
     },
     "execution_count": 46,
     "metadata": {},
     "output_type": "execute_result"
    }
   ],
   "source": [
    "even_check(20)"
   ]
  },
  {
   "cell_type": "code",
   "execution_count": 48,
   "id": "45265a31-7b32-4786-9dc6-ab6e369e7f74",
   "metadata": {},
   "outputs": [
    {
     "data": {
      "text/plain": [
       "False"
      ]
     },
     "execution_count": 48,
     "metadata": {},
     "output_type": "execute_result"
    }
   ],
   "source": [
    "even_check(51)"
   ]
  },
  {
   "cell_type": "code",
   "execution_count": 50,
   "id": "647076cc-709b-45bf-9ca9-5e6461908f28",
   "metadata": {},
   "outputs": [],
   "source": [
    "def even_check(num):\n",
    "    return num % 2 == 0"
   ]
  },
  {
   "cell_type": "code",
   "execution_count": 52,
   "id": "37a145b3-35c1-410f-9077-9a4a830dddb0",
   "metadata": {},
   "outputs": [
    {
     "data": {
      "text/plain": [
       "False"
      ]
     },
     "execution_count": 52,
     "metadata": {},
     "output_type": "execute_result"
    }
   ],
   "source": [
    "even_check(51)"
   ]
  },
  {
   "cell_type": "code",
   "execution_count": 62,
   "id": "154f40b3-6815-47bd-8a93-7087dd64db71",
   "metadata": {},
   "outputs": [],
   "source": [
    "def check_even_in_list(list):\n",
    "    for num in list:\n",
    "        if num % 2 == 0:\n",
    "            return True\n",
    "        else:\n",
    "            pass\n",
    "    return False                    "
   ]
  },
  {
   "cell_type": "code",
   "execution_count": 64,
   "id": "4a653023-341f-402d-9dbb-9cf2930f1b3f",
   "metadata": {},
   "outputs": [
    {
     "data": {
      "text/plain": [
       "True"
      ]
     },
     "execution_count": 64,
     "metadata": {},
     "output_type": "execute_result"
    }
   ],
   "source": [
    "check_even_in_list([22,44,55,67])"
   ]
  },
  {
   "cell_type": "code",
   "execution_count": 66,
   "id": "da63b805-341e-4afb-98ab-961a0453e8a7",
   "metadata": {},
   "outputs": [
    {
     "data": {
      "text/plain": [
       "True"
      ]
     },
     "execution_count": 66,
     "metadata": {},
     "output_type": "execute_result"
    }
   ],
   "source": [
    "check_even_in_list([22,44,55,67,90,77])"
   ]
  },
  {
   "cell_type": "code",
   "execution_count": 68,
   "id": "903a2cd7-4e6b-4dfc-8950-4713b46f09cb",
   "metadata": {},
   "outputs": [
    {
     "data": {
      "text/plain": [
       "False"
      ]
     },
     "execution_count": 68,
     "metadata": {},
     "output_type": "execute_result"
    }
   ],
   "source": [
    "check_even_in_list([23,45,55,67,93,77])"
   ]
  }
 ],
 "metadata": {
  "kernelspec": {
   "display_name": "Python 3 (ipykernel)",
   "language": "python",
   "name": "python3"
  },
  "language_info": {
   "codemirror_mode": {
    "name": "ipython",
    "version": 3
   },
   "file_extension": ".py",
   "mimetype": "text/x-python",
   "name": "python",
   "nbconvert_exporter": "python",
   "pygments_lexer": "ipython3",
   "version": "3.11.7"
  }
 },
 "nbformat": 4,
 "nbformat_minor": 5
}
