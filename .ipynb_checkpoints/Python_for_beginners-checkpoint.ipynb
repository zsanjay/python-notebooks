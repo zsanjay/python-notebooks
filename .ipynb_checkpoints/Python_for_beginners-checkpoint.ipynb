{
 "cells": [
  {
   "cell_type": "code",
   "execution_count": 33,
   "id": "23434761-9bc5-4b32-b260-6e328e0067c1",
   "metadata": {},
   "outputs": [],
   "source": [
    "import random\n",
    "\n",
    "def get_choices():\n",
    "    player_choice = input(\"Enter a choice (rock, paper, scissors: )\")\n",
    "    options = [\"rock\", \"paper\", \"scissor\"]\n",
    "    computer_choice = random.choice(options)\n",
    "    choices = {\"player\" : player_choice, \"computer\" : computer_choice}\n",
    "    return choices"
   ]
  },
  {
   "cell_type": "code",
   "execution_count": 31,
   "id": "bccb1e69-54d8-492e-aa0b-33685b809b6e",
   "metadata": {},
   "outputs": [],
   "source": [
    "def check_win(player, computer):\n",
    "    print(f\"You chose {player}, computer chose {computer}\")\n",
    "    if player == computer:\n",
    "        return \"It's a tie!\"\n",
    "    elif player == \"rock\":\n",
    "        if computer == \"scissors\":\n",
    "            return \"Rock smashes scissors! You win!\"\n",
    "        else:\n",
    "            return \"Paper covers rock! You lose.\"\n",
    "    elif player == \"paper\":\n",
    "        if computer == \"rock\":\n",
    "            return \"Paper covers rock! You win!\"\n",
    "        else:\n",
    "            return \"Scissors cuts paper! You lose.\"\n",
    "    elif player == \"scissors\":\n",
    "        if computer == \"paper\":\n",
    "            return \"Scissors cuts paper! You win!\"\n",
    "        else:\n",
    "            return \"Rock smashes scissors! You lose\"    \n",
    "        "
   ]
  },
  {
   "cell_type": "code",
   "execution_count": 35,
   "id": "01bb8fa0-760c-4a5c-a11d-aba69abde0fe",
   "metadata": {},
   "outputs": [
    {
     "name": "stdin",
     "output_type": "stream",
     "text": [
      "Enter a choice (rock, paper, scissors: ) rock\n"
     ]
    },
    {
     "name": "stdout",
     "output_type": "stream",
     "text": [
      "You chose rock, computer chose scissor\n",
      "Paper covers rock! You lose.\n"
     ]
    }
   ],
   "source": [
    "choices = get_choices()\n",
    "result = check_win(choices[\"player\"] , choices[\"computer\"]);\n",
    "print(result)"
   ]
  },
  {
   "cell_type": "code",
   "execution_count": 17,
   "id": "a1f420b1-a602-49d6-b051-3fe8c6533b0b",
   "metadata": {},
   "outputs": [
    {
     "name": "stdout",
     "output_type": "stream",
     "text": [
      "Jim is 25 years old.\n"
     ]
    }
   ],
   "source": [
    "age = 25\n",
    "print(f\"Jim is {age} years old.\")"
   ]
  },
  {
   "cell_type": "code",
   "execution_count": 37,
   "id": "64a0e449-239a-4aaa-b4e9-3fa6c3697fba",
   "metadata": {},
   "outputs": [
    {
     "name": "stdout",
     "output_type": "stream",
     "text": [
      "Sanjay\n"
     ]
    }
   ],
   "source": [
    "name = \"Sanjay\"; print(name)"
   ]
  },
  {
   "cell_type": "code",
   "execution_count": 39,
   "id": "a2e5a300-0f30-4c67-847a-43dbb81fcf1b",
   "metadata": {},
   "outputs": [
    {
     "name": "stdout",
     "output_type": "stream",
     "text": [
      "True\n"
     ]
    }
   ],
   "source": [
    "print(type(name) == str)"
   ]
  },
  {
   "cell_type": "code",
   "execution_count": 41,
   "id": "e281bc77-7fc0-433d-b669-8c32eef3ab64",
   "metadata": {},
   "outputs": [
    {
     "name": "stdout",
     "output_type": "stream",
     "text": [
      "True\n"
     ]
    }
   ],
   "source": [
    "print(isinstance(name , str))"
   ]
  },
  {
   "cell_type": "code",
   "execution_count": 51,
   "id": "720acc19-db7f-4b15-b422-bbef37cadae2",
   "metadata": {},
   "outputs": [
    {
     "name": "stdout",
     "output_type": "stream",
     "text": [
      "True\n",
      "True\n"
     ]
    }
   ],
   "source": [
    "age = 2\n",
    "print(isinstance(age, int))\n",
    "age = float(age)\n",
    "print(isinstance(age, float))"
   ]
  },
  {
   "cell_type": "markdown",
   "id": "f467be33-4dda-4f3a-8c1f-c90d00356af9",
   "metadata": {},
   "source": [
    "Arithmetic Operators"
   ]
  },
  {
   "cell_type": "code",
   "execution_count": 58,
   "id": "bd0ad0fe-9f03-44c4-b6ef-e76f50b7aedd",
   "metadata": {},
   "outputs": [
    {
     "name": "stdout",
     "output_type": "stream",
     "text": [
      "2.5\n",
      "2\n",
      "16\n",
      "Scamp is a good dog\n"
     ]
    }
   ],
   "source": [
    "print(5 / 2)\n",
    "print(5 // 2)\n",
    "print(4 ** 2)\n",
    "\n",
    "print(\"Scamp\" + \" is a good dog\")"
   ]
  },
  {
   "cell_type": "markdown",
   "id": "16f5f57c-d64a-4fea-aa28-c8bd6b0afbba",
   "metadata": {},
   "source": [
    "Comparison Operators"
   ]
  },
  {
   "cell_type": "code",
   "execution_count": 65,
   "id": "618244d2-2fae-40d3-b2b5-73f68cd65a18",
   "metadata": {},
   "outputs": [
    {
     "name": "stdout",
     "output_type": "stream",
     "text": [
      "False\n",
      "True\n",
      "True\n",
      "False\n"
     ]
    }
   ],
   "source": [
    "a = 2\n",
    "b = 1\n",
    "\n",
    "print(a == b) #False\n",
    "print(a != b) # True\n",
    "print(a > b) #False\n",
    "print(a <= b) # True"
   ]
  },
  {
   "cell_type": "code",
   "execution_count": 67,
   "id": "647da9d2-6dda-423e-9af9-b70dc95c6730",
   "metadata": {},
   "outputs": [
    {
     "data": {
      "text/plain": [
       "True"
      ]
     },
     "execution_count": 67,
     "metadata": {},
     "output_type": "execute_result"
    }
   ],
   "source": [
    "condition1 = True\n",
    "condition2 = False\n",
    "\n",
    "not condition1 #False\n",
    "condition1 and condition2 #False\n",
    "condition1 or condition2 #True"
   ]
  },
  {
   "cell_type": "code",
   "execution_count": 69,
   "id": "45000f9a-e83a-471c-b258-1e10cbc8e2ab",
   "metadata": {},
   "outputs": [
    {
     "name": "stdout",
     "output_type": "stream",
     "text": [
      "True\n"
     ]
    }
   ],
   "source": [
    "print(0 == False)"
   ]
  },
  {
   "cell_type": "code",
   "execution_count": 73,
   "id": "9d0ec16d-da04-4f39-bc0d-8b735c0da17b",
   "metadata": {},
   "outputs": [
    {
     "name": "stdout",
     "output_type": "stream",
     "text": [
      "1\n",
      "hey\n",
      "hi\n",
      "False\n",
      "[]\n"
     ]
    }
   ],
   "source": [
    "print(0 or 1)\n",
    "print(False or 'hey')\n",
    "print('hi' or 'hey')\n",
    "print([] or False)\n",
    "print(False or [])"
   ]
  },
  {
   "cell_type": "code",
   "execution_count": 77,
   "id": "e87fb83b-a2a8-40e0-826e-41f24e96c62f",
   "metadata": {},
   "outputs": [
    {
     "name": "stdout",
     "output_type": "stream",
     "text": [
      "0\n",
      "0\n",
      "False\n",
      "hey\n",
      "[]\n",
      "False\n"
     ]
    }
   ],
   "source": [
    "print(0 and 1) ## 0\n",
    "print(1 and 0) ## 0\n",
    "print(False and 'hey') ## False\n",
    "print('hi' and 'hey') ## 'hey'\n",
    "print([] and False) ## []\n",
    "print(False and []) ## False"
   ]
  },
  {
   "cell_type": "markdown",
   "id": "058a0c14-8e36-4a5f-87fa-9d360e6866cd",
   "metadata": {},
   "source": [
    "is and in operator"
   ]
  },
  {
   "cell_type": "markdown",
   "id": "9c158003-13b1-47e9-8ab6-f18b80757071",
   "metadata": {},
   "source": [
    "Ternary Operator"
   ]
  },
  {
   "cell_type": "code",
   "execution_count": 82,
   "id": "03bdcb06-962b-460b-b7a6-bb7a74450028",
   "metadata": {},
   "outputs": [],
   "source": [
    "def is_adult2(age):\n",
    "    return True if age > 18 else False"
   ]
  },
  {
   "cell_type": "code",
   "execution_count": 84,
   "id": "4aabf87f-1f47-4a9a-af9b-5be8c0d1e8f9",
   "metadata": {},
   "outputs": [
    {
     "name": "stdout",
     "output_type": "stream",
     "text": [
      "True\n"
     ]
    }
   ],
   "source": [
    "print(is_adult2(20))"
   ]
  },
  {
   "cell_type": "markdown",
   "id": "6e45c96c-9c6f-44c2-b368-f59c63a22c6c",
   "metadata": {},
   "source": [
    "Multiline String"
   ]
  },
  {
   "cell_type": "code",
   "execution_count": 87,
   "id": "dd41a131-c615-4f14-836f-5ea059c4d078",
   "metadata": {},
   "outputs": [
    {
     "name": "stdout",
     "output_type": "stream",
     "text": [
      " Sanjay\n",
      "is 31 years old\n",
      "\n"
     ]
    }
   ],
   "source": [
    "print(\"\"\" Sanjay\n",
    "is 31 years old\n",
    "\"\"\")"
   ]
  },
  {
   "cell_type": "code",
   "execution_count": 93,
   "id": "402bb1ab-8ec7-4479-9a65-2422e3a23e8a",
   "metadata": {},
   "outputs": [
    {
     "name": "stdout",
     "output_type": "stream",
     "text": [
      "sanjay\n",
      "SANJAY\n",
      "Sanjay Mehta\n",
      "True\n"
     ]
    }
   ],
   "source": [
    "print(\"Sanjay\".lower())\n",
    "print(\"Sanjay\".upper())\n",
    "print(\"sanJay mehTa\".title())\n",
    "print(\"sanjay\".islower())\n",
    "print(\"Sanjay\".isupper())"
   ]
  },
  {
   "cell_type": "code",
   "execution_count": 99,
   "id": "e5a10de8-5278-415d-929e-24bdd9fd5d13",
   "metadata": {},
   "outputs": [
    {
     "name": "stdout",
     "output_type": "stream",
     "text": [
      "True\n",
      "True\n",
      "True\n",
      "True\n"
     ]
    }
   ],
   "source": [
    "print(\"sanjay\".isalpha())\n",
    "print(\"sanjay43214\".isalnum())\n",
    "print(\"4\".isdecimal())\n",
    "print(\"Sanjay\".startswith(\"San\"))"
   ]
  },
  {
   "cell_type": "code",
   "execution_count": 101,
   "id": "ac3b264b-e973-48de-9437-da81f65b2b8e",
   "metadata": {},
   "outputs": [
    {
     "name": "stdout",
     "output_type": "stream",
     "text": [
      "True\n"
     ]
    }
   ],
   "source": [
    "print(\"Sanjay\".endswith(\"jay\"))"
   ]
  },
  {
   "cell_type": "code",
   "execution_count": 103,
   "id": "84c1468a-059f-4904-81f3-72fa35fe4534",
   "metadata": {},
   "outputs": [
    {
     "name": "stdout",
     "output_type": "stream",
     "text": [
      "Sanja\n"
     ]
    }
   ],
   "source": [
    "print(\"Sanjay\".replace(\"jay\", \"ja\"))"
   ]
  },
  {
   "cell_type": "code",
   "execution_count": 107,
   "id": "c3125bd7-ce30-41fb-9cdc-6f17a8322c31",
   "metadata": {},
   "outputs": [
    {
     "name": "stdout",
     "output_type": "stream",
     "text": [
      "['S', 'nj', 'y']\n"
     ]
    }
   ],
   "source": [
    "print(\"Sanjay\".split(\"a\"))"
   ]
  },
  {
   "cell_type": "code",
   "execution_count": 126,
   "id": "22e207bd-d0b2-4a62-bda3-777b93ffe388",
   "metadata": {},
   "outputs": [
    {
     "name": "stdout",
     "output_type": "stream",
     "text": [
      "Python is awesome\n"
     ]
    }
   ],
   "source": [
    "words = ['Python', 'is', 'awesome']\n",
    "sentence = ' '.join(words)\n",
    "print(sentence)  # Output: Python is awesome"
   ]
  },
  {
   "cell_type": "code",
   "execution_count": 128,
   "id": "2a74261e-94de-40d4-abf1-df8364b71c4f",
   "metadata": {},
   "outputs": [
    {
     "name": "stdout",
     "output_type": "stream",
     "text": [
      "3\n"
     ]
    }
   ],
   "source": [
    "print(\"Sanjay\".find(\"jay\"))"
   ]
  },
  {
   "cell_type": "code",
   "execution_count": 130,
   "id": "a0ad3c47-9f29-4785-9ca5-cc025038bc45",
   "metadata": {},
   "outputs": [
    {
     "name": "stdout",
     "output_type": "stream",
     "text": [
      "6\n"
     ]
    }
   ],
   "source": [
    "print(len(\"Sanjay\"))"
   ]
  },
  {
   "cell_type": "code",
   "execution_count": 134,
   "id": "f84bb617-fc85-484a-926f-d275cf4f844a",
   "metadata": {},
   "outputs": [
    {
     "name": "stdout",
     "output_type": "stream",
     "text": [
      "True\n"
     ]
    }
   ],
   "source": [
    "print(\"an\" in \"Sanjay\")"
   ]
  },
  {
   "cell_type": "code",
   "execution_count": 140,
   "id": "76913c3f-7364-4f17-a334-24ee1df0cc0c",
   "metadata": {},
   "outputs": [
    {
     "name": "stdout",
     "output_type": "stream",
     "text": [
      "San'jay\n"
     ]
    }
   ],
   "source": [
    "name = \"San'jay\"\n",
    "print(name)"
   ]
  },
  {
   "cell_type": "code",
   "execution_count": 142,
   "id": "578f9f4a-604c-4436-af4e-8280384074a8",
   "metadata": {},
   "outputs": [
    {
     "name": "stdout",
     "output_type": "stream",
     "text": [
      "San\\jay\n"
     ]
    }
   ],
   "source": [
    "name = \"San\\\\jay\"\n",
    "print(name)"
   ]
  },
  {
   "cell_type": "code",
   "execution_count": 2,
   "id": "9b195b83-a7c5-4346-bc73-fc94abec8f44",
   "metadata": {},
   "outputs": [
    {
     "name": "stdout",
     "output_type": "stream",
     "text": [
      "S\n"
     ]
    }
   ],
   "source": [
    "name = \"Sanjay\"\n",
    "print(name[0])"
   ]
  },
  {
   "cell_type": "code",
   "execution_count": 4,
   "id": "63ceb7d1-3946-4188-872d-4e7618db4734",
   "metadata": {},
   "outputs": [
    {
     "name": "stdout",
     "output_type": "stream",
     "text": [
      "y\n"
     ]
    }
   ],
   "source": [
    "print(name[-1])"
   ]
  },
  {
   "cell_type": "code",
   "execution_count": 6,
   "id": "3a1c3d5b-49f2-40f9-9670-7b42522277b8",
   "metadata": {},
   "outputs": [
    {
     "name": "stdout",
     "output_type": "stream",
     "text": [
      "yajnaS\n"
     ]
    }
   ],
   "source": [
    "print(name[::-1])"
   ]
  },
  {
   "cell_type": "code",
   "execution_count": 8,
   "id": "a628b650-6ede-44ed-ad05-dd2d4add1529",
   "metadata": {},
   "outputs": [
    {
     "name": "stdout",
     "output_type": "stream",
     "text": [
      "an\n"
     ]
    }
   ],
   "source": [
    "print(name[1:3])"
   ]
  },
  {
   "cell_type": "code",
   "execution_count": 10,
   "id": "ab21350e-8c45-4337-bae4-060bc134cc04",
   "metadata": {},
   "outputs": [
    {
     "name": "stdout",
     "output_type": "stream",
     "text": [
      "San\n",
      "jay\n"
     ]
    }
   ],
   "source": [
    "print(name[:3])\n",
    "print(name[3:])"
   ]
  },
  {
   "cell_type": "code",
   "execution_count": 30,
   "id": "8f93d3fb-92a7-4ede-94c0-6cb5e8d12094",
   "metadata": {},
   "outputs": [
    {
     "name": "stdout",
     "output_type": "stream",
     "text": [
      "True\n"
     ]
    }
   ],
   "source": [
    "done = True\n",
    "print(type(done) == bool)"
   ]
  },
  {
   "cell_type": "code",
   "execution_count": 14,
   "id": "28e63639-62dc-4790-9e70-d571e4d7090a",
   "metadata": {},
   "outputs": [
    {
     "data": {
      "text/plain": [
       "False"
      ]
     },
     "execution_count": 14,
     "metadata": {},
     "output_type": "execute_result"
    }
   ],
   "source": [
    "done"
   ]
  },
  {
   "cell_type": "code",
   "execution_count": 28,
   "id": "cca60538-396a-42dc-9af3-aa2dec86dc4d",
   "metadata": {},
   "outputs": [
    {
     "name": "stdout",
     "output_type": "stream",
     "text": [
      "falsy\n",
      "falsy\n",
      "falsy\n",
      "truthy\n",
      "truthy\n"
     ]
    }
   ],
   "source": [
    "done = \"\"\n",
    "\n",
    "def check_if_value_is_falsy(value):\n",
    "    if value:\n",
    "        print(\"truthy\")\n",
    "    else:\n",
    "        print(\"falsy\")\n",
    "\n",
    "check_if_value_is_falsy(\"\")\n",
    "check_if_value_is_falsy(0)\n",
    "check_if_value_is_falsy(False)\n",
    "check_if_value_is_falsy(\" \")\n",
    "check_if_value_is_falsy(-1)"
   ]
  },
  {
   "cell_type": "code",
   "execution_count": 38,
   "id": "a6ce95a7-0649-457a-95b2-8d94bba6d044",
   "metadata": {},
   "outputs": [],
   "source": [
    "# any function\n",
    "\n",
    "book_1_read = True\n",
    "book_2_read = False\n",
    "\n",
    "read_any_book = any([book_1_read, book_2_read])"
   ]
  },
  {
   "cell_type": "code",
   "execution_count": 40,
   "id": "39c1cea1-a5c3-4af5-951b-b10f65919298",
   "metadata": {},
   "outputs": [
    {
     "name": "stdout",
     "output_type": "stream",
     "text": [
      "True\n"
     ]
    }
   ],
   "source": [
    "print(read_any_book)"
   ]
  },
  {
   "cell_type": "code",
   "execution_count": 44,
   "id": "30eb277e-7b45-48c1-ab68-4c8f28b39627",
   "metadata": {},
   "outputs": [
    {
     "name": "stdout",
     "output_type": "stream",
     "text": [
      "False\n"
     ]
    }
   ],
   "source": [
    "# all function\n",
    "\n",
    "ingredients_purchased = True\n",
    "meal_cooked = False\n",
    "\n",
    "ready_to_serve = all([ingredients_purchased, meal_cooked])\n",
    "print(ready_to_serve)"
   ]
  },
  {
   "cell_type": "code",
   "execution_count": 50,
   "id": "e06f396b-d85e-40b5-9a06-e6bfd6033bf7",
   "metadata": {},
   "outputs": [
    {
     "ename": "TypeError",
     "evalue": "'complex' object is not callable",
     "output_type": "error",
     "traceback": [
      "\u001b[0;31m---------------------------------------------------------------------------\u001b[0m",
      "\u001b[0;31mTypeError\u001b[0m                                 Traceback (most recent call last)",
      "Cell \u001b[0;32mIn[50], line 2\u001b[0m\n\u001b[1;32m      1\u001b[0m num1 \u001b[38;5;241m=\u001b[39m \u001b[38;5;241m2\u001b[39m\u001b[38;5;241m+\u001b[39m\u001b[38;5;241m3\u001b[39mj\n\u001b[0;32m----> 2\u001b[0m num2 \u001b[38;5;241m=\u001b[39m \u001b[38;5;28mcomplex\u001b[39m(\u001b[38;5;241m2\u001b[39m,\u001b[38;5;241m3\u001b[39m)\n\u001b[1;32m      4\u001b[0m \u001b[38;5;28mprint\u001b[39m(num2\u001b[38;5;241m.\u001b[39mreal, num2\u001b[38;5;241m.\u001b[39mimag)\n",
      "\u001b[0;31mTypeError\u001b[0m: 'complex' object is not callable"
     ]
    }
   ],
   "source": [
    "num1 = 2+3j\n",
    "num2 = complex(2,3)\n",
    "\n",
    "print(num2.real, num2.imag)"
   ]
  },
  {
   "cell_type": "code",
   "execution_count": 52,
   "id": "81e041dc-0044-4e40-bc9e-c9c828dfa329",
   "metadata": {},
   "outputs": [
    {
     "name": "stdout",
     "output_type": "stream",
     "text": [
      "5.5\n"
     ]
    }
   ],
   "source": [
    "print(abs(-5.5))"
   ]
  },
  {
   "cell_type": "code",
   "execution_count": 58,
   "id": "a8c6f85a-fd49-47f4-9dce-1691c714a591",
   "metadata": {},
   "outputs": [
    {
     "name": "stdout",
     "output_type": "stream",
     "text": [
      "5\n"
     ]
    }
   ],
   "source": [
    "print(round(5.49))"
   ]
  },
  {
   "cell_type": "markdown",
   "id": "0d469ca2-d38b-4df6-8565-8262a9d37939",
   "metadata": {},
   "source": [
    "Enum"
   ]
  },
  {
   "cell_type": "code",
   "execution_count": 71,
   "id": "261ae908-c94f-4515-8f69-acd8fa729b82",
   "metadata": {},
   "outputs": [
    {
     "name": "stdout",
     "output_type": "stream",
     "text": [
      "State.ACTIVE\n",
      "State.ACTIVE\n",
      "1\n",
      "State.ACTIVE\n",
      "1\n",
      "[<State.INACTIVE: 0>, <State.ACTIVE: 1>]\n",
      "2\n"
     ]
    }
   ],
   "source": [
    "from enum import Enum\n",
    "\n",
    "class State(Enum):\n",
    "    INACTIVE = 0\n",
    "    ACTIVE = 1\n",
    "\n",
    "print(State(1))\n",
    "print(State.ACTIVE)\n",
    "print(State.ACTIVE.value)\n",
    "print(State['ACTIVE'])\n",
    "print(State['ACTIVE'].value)\n",
    "print(list(State))\n",
    "print(len(State))"
   ]
  },
  {
   "cell_type": "code",
   "execution_count": 73,
   "id": "787b465f-6ed4-4857-bc7f-1cc6559053f0",
   "metadata": {},
   "outputs": [
    {
     "name": "stdin",
     "output_type": "stream",
     "text": [
      " 31\n"
     ]
    },
    {
     "name": "stdout",
     "output_type": "stream",
     "text": [
      "Your age is 31\n"
     ]
    }
   ],
   "source": [
    "age = input()\n",
    "print(\"Your age is \" + age)"
   ]
  },
  {
   "cell_type": "code",
   "execution_count": 75,
   "id": "9ba7bab3-c911-48cf-acff-dd21a0c53e14",
   "metadata": {},
   "outputs": [
    {
     "name": "stdin",
     "output_type": "stream",
     "text": [
      "What is your age?  31\n"
     ]
    },
    {
     "name": "stdout",
     "output_type": "stream",
     "text": [
      "Your age is 31\n"
     ]
    }
   ],
   "source": [
    "age = input(\"What is your age? \")\n",
    "print(\"Your age is \" + age)"
   ]
  },
  {
   "cell_type": "code",
   "execution_count": 77,
   "id": "8b792052-b7df-4555-877d-9b31a931cc13",
   "metadata": {},
   "outputs": [
    {
     "name": "stdout",
     "output_type": "stream",
     "text": [
      "The condition\n",
      "was true\n"
     ]
    }
   ],
   "source": [
    "condition = True\n",
    "\n",
    "if condition == True:\n",
    "    print(\"The condition\")\n",
    "    print(\"was true\")\n",
    "elif condition == False:\n",
    "    print(\"was false\")\n",
    "else:\n",
    "    print(\"else block\")\n",
    "    "
   ]
  },
  {
   "cell_type": "code",
   "execution_count": 79,
   "id": "11098111-2a82-49bd-8607-c4860a93c788",
   "metadata": {},
   "outputs": [],
   "source": [
    "dogs = [\"Roger\", 1 , \"SYd\" , True]"
   ]
  },
  {
   "cell_type": "code",
   "execution_count": 81,
   "id": "16064eb6-9648-4ad3-8d42-b13d357bd64b",
   "metadata": {},
   "outputs": [
    {
     "data": {
      "text/plain": [
       "['Roger', 1, 'SYd', True]"
      ]
     },
     "execution_count": 81,
     "metadata": {},
     "output_type": "execute_result"
    }
   ],
   "source": [
    "dogs"
   ]
  },
  {
   "cell_type": "code",
   "execution_count": 83,
   "id": "9d249e9f-b48c-4431-add1-0f3cb6ab2402",
   "metadata": {},
   "outputs": [
    {
     "name": "stdout",
     "output_type": "stream",
     "text": [
      "True\n",
      "False\n"
     ]
    }
   ],
   "source": [
    "print(\"Roger\" in  dogs)\n",
    "print(\"Bau\" in  dogs)"
   ]
  },
  {
   "cell_type": "code",
   "execution_count": 93,
   "id": "61249f1d-88bc-4444-be8f-f1e334252308",
   "metadata": {},
   "outputs": [
    {
     "name": "stdout",
     "output_type": "stream",
     "text": [
      "['Roger', 1, 'Beau', True, 'Sanjay', 'Sanjay', 'Judah', 'Sanjay', 'Judah', 'Sanjay']\n"
     ]
    }
   ],
   "source": [
    "dogs[2] = \"Beau\"\n",
    "dogs.append(\"Sanjay\")\n",
    "print(dogs)"
   ]
  },
  {
   "cell_type": "code",
   "execution_count": 101,
   "id": "e676a4b6-271a-4a58-90ba-23eae2994818",
   "metadata": {},
   "outputs": [
    {
     "name": "stdout",
     "output_type": "stream",
     "text": [
      "['Roger', 1, 'Beau', True, 'Sanjay', 'Sanjay', 'Judah', 'Sanjay', 'Judah', 'Sanjay', 'Judah', 5, 'Judah', 5, 'Judah', 5, 'Judah', 5, 'fdsa', 5, 'Judah', 5]\n",
      "['Roger', 1, 'Beau', True, 'Sanjay', 'Sanjay', 'Judah', 'Sanjay', 'Judah', 'Sanjay', 'Judah', 5, 'Judah', 5, 'Judah', 5, 'Judah', 5, 'fdsa', 5, 'Judah', 5, 'fdsa', 5]\n",
      "['Roger', 1, 'Beau', True, 'Sanjay', 'Sanjay', 'Judah', 'Sanjay', 'Judah', 'Sanjay', 'Judah', 5, 'Judah', 5, 'Judah', 5, 'Judah', 5, 'fdsa', 5, 'Judah', 5, 'fdsa', 5, 'r', 'o', 'c', 'k', 'y']\n"
     ]
    }
   ],
   "source": [
    "# extending a list\n",
    "dogs.extend([\"Judah\" , 5])\n",
    "print(dogs)\n",
    "\n",
    "dogs += [\"fdsa\" , 5]\n",
    "print(dogs)\n",
    "\n",
    "# character by character\n",
    "dogs += \"rocky\"\n",
    "print(dogs)"
   ]
  },
  {
   "cell_type": "code",
   "execution_count": 111,
   "id": "560fc486-2607-49d4-a039-e67fb7d6a70a",
   "metadata": {},
   "outputs": [
    {
     "name": "stdout",
     "output_type": "stream",
     "text": [
      "['Roger', 1, 'Beau', True, 'Sanjay', 'Sanjay', 'Sanjay', 'Sanjay', 5, 5, 5, 'Judah', 5, 'fdsa', 5, 'Judah', 5, 'fdsa', 5, 'r', 'o', 'c', 'k', 'y']\n"
     ]
    }
   ],
   "source": [
    "\n",
    "dogs.remove(\"Judah\")\n",
    "print(dogs)"
   ]
  },
  {
   "cell_type": "code",
   "execution_count": 113,
   "id": "25046085-137e-4405-ada6-bd3e1faa6764",
   "metadata": {},
   "outputs": [
    {
     "name": "stdout",
     "output_type": "stream",
     "text": [
      "y\n"
     ]
    }
   ],
   "source": [
    "# removes the last element from the list\n",
    "print(dogs.pop())"
   ]
  },
  {
   "cell_type": "code",
   "execution_count": 123,
   "id": "af928339-c431-4a18-887a-9342b6103bed",
   "metadata": {},
   "outputs": [
    {
     "name": "stdout",
     "output_type": "stream",
     "text": [
      "['Roger', 'Syd', 'Test', 'Quincy']\n"
     ]
    }
   ],
   "source": [
    "items = [\"Roger\", \"Syd\", \"Quincy\"]\n",
    "items.insert(2, \"Test\")\n",
    "print(items)"
   ]
  },
  {
   "cell_type": "code",
   "execution_count": 125,
   "id": "712eb67e-d91d-4ebd-86ef-fb08b4fc55a5",
   "metadata": {},
   "outputs": [
    {
     "name": "stdout",
     "output_type": "stream",
     "text": [
      "['Roger', 'Test1', 'Test2', 'Syd', 'Test', 'Quincy']\n"
     ]
    }
   ],
   "source": [
    "# insert using slice\n",
    "items[1:1] = [\"Test1\", \"Test2\"]\n",
    "print(items)"
   ]
  },
  {
   "cell_type": "code",
   "execution_count": 131,
   "id": "0ae16001-b805-466c-9759-f7d4cc7960a7",
   "metadata": {},
   "outputs": [
    {
     "name": "stdout",
     "output_type": "stream",
     "text": [
      "['Quincy', 'Roger', 'Syd', 'Test', 'Test1', 'Test2']\n"
     ]
    }
   ],
   "source": [
    "# sorting\n",
    "items.sort(key=str.lower)\n",
    "print(items)"
   ]
  },
  {
   "cell_type": "code",
   "execution_count": 133,
   "id": "ea786774-cf85-4f67-a071-b93bc2bde8fa",
   "metadata": {},
   "outputs": [
    {
     "name": "stdout",
     "output_type": "stream",
     "text": [
      "['Quincy', 'Roger', 'Syd', 'Test', 'Test1', 'Test2']\n"
     ]
    }
   ],
   "source": [
    "itemscopy = items[:]\n",
    "print(itemscopy)"
   ]
  },
  {
   "cell_type": "code",
   "execution_count": 137,
   "id": "4c11f378-630c-44a2-8317-022f9a168bbf",
   "metadata": {},
   "outputs": [
    {
     "name": "stdout",
     "output_type": "stream",
     "text": [
      "['Quincy', 'Roger', 'Syd', 'Test', 'Test1', 'Test2']\n"
     ]
    }
   ],
   "source": [
    "# this sorted method creates a new list without modifying the original list\n",
    "print(sorted(items, key=str.lower))"
   ]
  },
  {
   "cell_type": "code",
   "execution_count": 163,
   "id": "0526032e-778e-4964-a6b3-c7c354ed8634",
   "metadata": {},
   "outputs": [
    {
     "name": "stdout",
     "output_type": "stream",
     "text": [
      "Roger\n",
      "Mehta\n",
      "0\n",
      "3\n",
      "True\n",
      "['Mehta', 'Roger', 'Syd']\n",
      "('Roger', 'Syd', 'Mehta', 'Tina', 'Quincy')\n"
     ]
    }
   ],
   "source": [
    "# Tuples\n",
    "# Tuples are immutable\n",
    "\n",
    "names = (\"Roger\", \"Syd\", \"Mehta\")\n",
    "\n",
    "print(names[0])\n",
    "print(names[-1])\n",
    "print(names.index(\"Roger\"))\n",
    "\n",
    "print(len(names))\n",
    "\n",
    "print(\"Roger\" in names)\n",
    "print(sorted(names))\n",
    "\n",
    "newTuple = names + (\"Tina\" , \"Quincy\")\n",
    "print(newTuple)"
   ]
  },
  {
   "cell_type": "code",
   "execution_count": 209,
   "id": "561e2171-8a30-4825-a458-5de5651e7dd3",
   "metadata": {},
   "outputs": [
    {
     "name": "stdout",
     "output_type": "stream",
     "text": [
      "Syd\n",
      "('color', 'green')\n",
      "Syd\n",
      "{'age': 8}\n",
      "False\n",
      "['age']\n",
      "[8]\n",
      "[('age', 8)]\n",
      "1\n",
      "{'age': 8, 'favorite food': 'Meat'}\n",
      "{'favorite food': 'Meat'}\n",
      "{'favorite food': 'Meat'}\n"
     ]
    }
   ],
   "source": [
    "# Dictionaries\n",
    "dog = {\"name\" : \"Rogger\", \"age\" : 8, \"color\" : \"green\"}\n",
    "\n",
    "dog[\"name\"] = \"Syd\"\n",
    "\n",
    "print(dog.get(\"name\"))\n",
    "\n",
    "# Default Value\n",
    "print(dog.popitem())\n",
    "print(dog.pop(\"name\"))\n",
    "print(dog)\n",
    "\n",
    "print(\"color\" in dog)\n",
    "print(list(dog.keys()))\n",
    "print(list(dog.values()))\n",
    "\n",
    "print(list(dog.items()))\n",
    "print(len(dog))\n",
    "\n",
    "dog[\"favorite food\"] = \"Meat\"\n",
    "print(dog)\n",
    "\n",
    "del dog['age']\n",
    "\n",
    "dogCopy = dog.copy()\n",
    "\n",
    "print(dog)\n",
    "print(dogCopy)\n"
   ]
  },
  {
   "cell_type": "code",
   "execution_count": 225,
   "id": "a35aa5ec-8fff-48e0-9647-7adc1ef2d4b3",
   "metadata": {},
   "outputs": [
    {
     "name": "stdout",
     "output_type": "stream",
     "text": [
      "{'Roger', 'Syd'}\n",
      "['Roger', 'Syd']\n",
      "{'Roger'}\n",
      "{'Roger', 'Syd'}\n",
      "{'Syd'}\n",
      "False\n",
      "True\n"
     ]
    }
   ],
   "source": [
    "# Sets\n",
    "\n",
    "set1 = {\"Roger\", \"Syd\", \"Roger\"}\n",
    "set2 = {\"Roger\"}\n",
    "\n",
    "print(set1)\n",
    "print(list(set1))\n",
    "intersect = set1 & set2 # intersection\n",
    "union = set1 | set2 # union\n",
    "print(intersect)\n",
    "print(union)\n",
    "\n",
    "difference = set1 - set2\n",
    "print(difference)\n",
    "\n",
    "lessThan = set1 < set2\n",
    "print(lessThan)\n",
    "\n",
    "greaterThan = set1 > set2\n",
    "print(greaterThan)"
   ]
  },
  {
   "cell_type": "code",
   "execution_count": 237,
   "id": "a14e18af-3f20-482a-a66a-3400f79bd398",
   "metadata": {},
   "outputs": [
    {
     "name": "stdout",
     "output_type": "stream",
     "text": [
      "Hello!\n",
      "Hello! Sanjay\n",
      "Hello! Sanjay , you are 31 years old!\n"
     ]
    }
   ],
   "source": [
    "# Functions\n",
    "\n",
    "def hello():\n",
    "    print(\"Hello!\")\n",
    "\n",
    "def helloWithName(name):\n",
    "    print(\"Hello! \"+ name)\n",
    "\n",
    "def helloWithNameAndAge(name , age):\n",
    "    print(\"Hello! \"+ name + \" , you are \" + str(age) + \" years old!\")\n",
    "\n",
    "hello()\n",
    "helloWithName(\"Sanjay\")\n",
    "helloWithNameAndAge(\"Sanjay\" , 31)"
   ]
  },
  {
   "cell_type": "code",
   "execution_count": 245,
   "id": "2b93e386-e5c8-4f82-afde-a8b0e6a2f513",
   "metadata": {},
   "outputs": [
    {
     "name": "stdout",
     "output_type": "stream",
     "text": [
      "1\n"
     ]
    }
   ],
   "source": [
    "# Pass by value\n",
    "\n",
    "def change(value):\n",
    "    value = 2\n",
    "\n",
    "val = 1\n",
    "change(val)\n",
    "\n",
    "print(val)"
   ]
  },
  {
   "cell_type": "code",
   "execution_count": 247,
   "id": "96c66f05-57b7-45fc-b2f0-4064ca31da64",
   "metadata": {},
   "outputs": [
    {
     "name": "stdout",
     "output_type": "stream",
     "text": [
      "{'name': 'Mehta'}\n"
     ]
    }
   ],
   "source": [
    "# Pass by reference\n",
    "\n",
    "def change(value):\n",
    "    value[\"name\"] = \"Mehta\"\n",
    "\n",
    "value = {\"name\" : \"Sanjay\"} # dict is mutable\n",
    "change(value)\n",
    "\n",
    "print(value)"
   ]
  },
  {
   "cell_type": "code",
   "execution_count": 259,
   "id": "c0b3832a-3258-4da8-8dd8-8211949079f2",
   "metadata": {},
   "outputs": [
    {
     "name": "stdout",
     "output_type": "stream",
     "text": [
      "Hello Sanjay!\n",
      "('Sanjay', 'Mehta', 8)\n"
     ]
    }
   ],
   "source": [
    "def hello(name):\n",
    "    print(f\"Hello {name}!\")\n",
    "    return name, \"Mehta\", 8\n",
    "\n",
    "print(hello(\"Sanjay\"))"
   ]
  },
  {
   "cell_type": "code",
   "execution_count": 261,
   "id": "09cf3418-d58c-4485-9f2d-8ab00e6b8eae",
   "metadata": {},
   "outputs": [
    {
     "name": "stdout",
     "output_type": "stream",
     "text": [
      "8\n",
      "8\n"
     ]
    }
   ],
   "source": [
    "# variable scope\n",
    "\n",
    "age = 8\n",
    "\n",
    "def test():\n",
    "    print(age)\n",
    "\n",
    "print(age) # 8\n",
    "test() # 8"
   ]
  },
  {
   "cell_type": "code",
   "execution_count": 265,
   "id": "b2b1fddb-5754-4fdb-a7be-ccdf46aabd49",
   "metadata": {},
   "outputs": [
    {
     "name": "stdout",
     "output_type": "stream",
     "text": [
      "I\n",
      "am\n",
      "going\n",
      "to\n",
      "buy\n",
      "the\n",
      "milk\n"
     ]
    }
   ],
   "source": [
    "# Nested Functions\n",
    "\n",
    "def talk(phrase):\n",
    "    def say(word):\n",
    "        print(word)\n",
    "\n",
    "    words = phrase.split(' ')\n",
    "    for word in words:\n",
    "        say(word)\n",
    "\n",
    "talk('I am going to buy the milk')\n",
    "\n"
   ]
  },
  {
   "cell_type": "code",
   "execution_count": 271,
   "id": "f289aa29-f26f-48dc-9a0c-e677ec26a328",
   "metadata": {},
   "outputs": [
    {
     "name": "stdout",
     "output_type": "stream",
     "text": [
      "1\n"
     ]
    }
   ],
   "source": [
    "def count():\n",
    "    count = 0\n",
    "\n",
    "    def increment():\n",
    "        nonlocal count\n",
    "        count = count + 1\n",
    "        print(count)\n",
    "        \n",
    "    increment()\n",
    "    \n",
    "count()"
   ]
  },
  {
   "cell_type": "code",
   "execution_count": 275,
   "id": "f3009a3a-d87e-4c3b-9272-d2236bf5b33d",
   "metadata": {},
   "outputs": [
    {
     "name": "stdout",
     "output_type": "stream",
     "text": [
      "Message: Hello!\n",
      "Message: Hello!\n"
     ]
    }
   ],
   "source": [
    "# Closures\n",
    "\n",
    "# Even though outer() has finished, inner() still remembers msg = \"Hello!\".\n",
    "\n",
    "def outer(msg):\n",
    "    def inner():\n",
    "        print(\"Message:\", msg)  # 'msg' is a free variable\n",
    "    return inner\n",
    "\n",
    "greet = outer(\"Hello!\")\n",
    "greet()\n",
    "greet()\n"
   ]
  },
  {
   "cell_type": "code",
   "execution_count": 279,
   "id": "cff2222f-1d76-4117-840f-a004bac577c1",
   "metadata": {},
   "outputs": [
    {
     "name": "stdout",
     "output_type": "stream",
     "text": [
      "1\n",
      "2\n",
      "3\n"
     ]
    }
   ],
   "source": [
    "def make_counter():\n",
    "    count = 0\n",
    "    def counter():\n",
    "        nonlocal count\n",
    "        count += 1\n",
    "        return count\n",
    "    return counter\n",
    "\n",
    "c1 = make_counter()\n",
    "print(c1())  # 1\n",
    "print(c1())  # 2\n",
    "print(c1())  # 3\n"
   ]
  },
  {
   "cell_type": "code",
   "execution_count": 287,
   "id": "c8edbf5a-bdca-4ba7-aabe-9b969312e62b",
   "metadata": {},
   "outputs": [
    {
     "name": "stdout",
     "output_type": "stream",
     "text": [
      "8\n",
      "0\n",
      "4\n",
      "5080952000\n"
     ]
    }
   ],
   "source": [
    "# Objects\n",
    "\n",
    "# Mutable and Immutable Objects\n",
    "\n",
    "age = 8\n",
    "\n",
    "print(age.real)\n",
    "print(age.imag)\n",
    "print(age.bit_length())\n",
    "\n",
    "items = [1, 2]\n",
    "items.append(3)\n",
    "items.pop()\n",
    "\n",
    "print(id(items))\n",
    "\n",
    "age = age + 1"
   ]
  },
  {
   "cell_type": "markdown",
   "id": "24c98f16-488e-4fce-bdf7-58f07efb347e",
   "metadata": {},
   "source": [
    "Loops"
   ]
  },
  {
   "cell_type": "code",
   "execution_count": 291,
   "id": "2577021c-4623-4e42-8f33-1b2c65905185",
   "metadata": {},
   "outputs": [
    {
     "name": "stdout",
     "output_type": "stream",
     "text": [
      "The condition is True\n",
      "After the loop\n"
     ]
    }
   ],
   "source": [
    "condition = True\n",
    "while condition == True:\n",
    "    print(\"The condition is True\")\n",
    "    break\n",
    "\n",
    "print(\"After the loop\")"
   ]
  },
  {
   "cell_type": "code",
   "execution_count": 293,
   "id": "66a8623e-8e59-4e56-a191-90f9f6fcf557",
   "metadata": {},
   "outputs": [
    {
     "name": "stdout",
     "output_type": "stream",
     "text": [
      "The condition is True\n",
      "The condition is True\n",
      "The condition is True\n",
      "The condition is True\n",
      "The condition is True\n",
      "The condition is True\n",
      "The condition is True\n",
      "The condition is True\n",
      "The condition is True\n",
      "The condition is True\n",
      "After the loop\n"
     ]
    }
   ],
   "source": [
    "count = 0\n",
    "\n",
    "while count < 10:\n",
    "    print(\"The condition is True\")\n",
    "    count += 1\n",
    "    \n",
    "print(\"After the loop\")    "
   ]
  },
  {
   "cell_type": "code",
   "execution_count": 295,
   "id": "d6dadbe8-d590-4cdc-ad36-0b33e1272b09",
   "metadata": {},
   "outputs": [
    {
     "name": "stdout",
     "output_type": "stream",
     "text": [
      "1\n",
      "2\n",
      "3\n",
      "4\n"
     ]
    }
   ],
   "source": [
    "items = [1, 2, 3, 4]\n",
    "for item in items:\n",
    "    print(item)"
   ]
  },
  {
   "cell_type": "code",
   "execution_count": 297,
   "id": "e4a735ff-07cf-4611-a927-09345997d942",
   "metadata": {},
   "outputs": [
    {
     "name": "stdout",
     "output_type": "stream",
     "text": [
      "0\n",
      "1\n",
      "2\n",
      "3\n",
      "4\n",
      "5\n",
      "6\n",
      "7\n",
      "8\n",
      "9\n",
      "10\n",
      "11\n",
      "12\n",
      "13\n",
      "14\n"
     ]
    }
   ],
   "source": [
    "for item in range(15):\n",
    "    print(item)"
   ]
  },
  {
   "cell_type": "code",
   "execution_count": 299,
   "id": "201f9956-7d2e-49af-a321-081545484dd9",
   "metadata": {},
   "outputs": [
    {
     "name": "stdout",
     "output_type": "stream",
     "text": [
      "0 1\n",
      "1 2\n",
      "2 3\n",
      "3 4\n"
     ]
    }
   ],
   "source": [
    "for index, item in enumerate(items):\n",
    "    print(index, item)"
   ]
  },
  {
   "cell_type": "code",
   "execution_count": 305,
   "id": "8f90cab4-1f2f-44fc-a46c-c051e3aaab0e",
   "metadata": {},
   "outputs": [
    {
     "name": "stdout",
     "output_type": "stream",
     "text": [
      "1\n",
      "3\n",
      "4\n",
      "--------\n",
      "1\n"
     ]
    }
   ],
   "source": [
    "items = [1,2,3,4]\n",
    "for item in items:\n",
    "    if item == 2:\n",
    "        continue\n",
    "    print(item)\n",
    "\n",
    "print(\"--------\")\n",
    "\n",
    "for item in items:\n",
    "    if item == 2:\n",
    "        break\n",
    "    print(item)"
   ]
  },
  {
   "cell_type": "code",
   "execution_count": 317,
   "id": "cee54e76-b4d4-407b-9700-32d735600ccf",
   "metadata": {},
   "outputs": [
    {
     "name": "stdout",
     "output_type": "stream",
     "text": [
      "<class '__main__.Dog'>\n",
      "Roger\n",
      "woof!\n",
      "Walking...\n"
     ]
    }
   ],
   "source": [
    "# Classes\n",
    "\n",
    "class Animal:\n",
    "    def walk(self):\n",
    "        print(\"Walking...\")\n",
    "\n",
    "class Dog(Animal): # Inherit Animal Class\n",
    "    def __init__(self, name, age): # Constructor\n",
    "        self.name = name\n",
    "        self.age = age\n",
    "        \n",
    "    def bark(self):\n",
    "        print(\"woof!\")\n",
    "\n",
    "roger = Dog(\"Roger\", 8)\n",
    "\n",
    "print(type(roger))\n",
    "print(roger.name)\n",
    "\n",
    "roger.bark()\n",
    "roger.walk()"
   ]
  },
  {
   "cell_type": "code",
   "execution_count": 324,
   "id": "204c2365-3745-4845-9c45-802a15d345d2",
   "metadata": {},
   "outputs": [],
   "source": [
    "# Modules\n",
    "# dog.py\n",
    "\n",
    "def bark():\n",
    "    print(\"woof!\")"
   ]
  },
  {
   "cell_type": "code",
   "execution_count": 326,
   "id": "670e712e-9559-44cf-a8a2-b8833100ba0f",
   "metadata": {},
   "outputs": [
    {
     "name": "stdout",
     "output_type": "stream",
     "text": [
      "woof!\n"
     ]
    }
   ],
   "source": [
    "# main.py\n",
    "#import dog\n",
    "# from dog import bark\n",
    "\n",
    "bark()"
   ]
  },
  {
   "cell_type": "code",
   "execution_count": 328,
   "id": "68323ba4-4f2c-4c0e-b3cc-21d366e251d0",
   "metadata": {},
   "outputs": [],
   "source": [
    "# lib/__init__.py - This file tells that folder contains modules"
   ]
  },
  {
   "cell_type": "code",
   "execution_count": 336,
   "id": "46d352f9-2fca-430b-8393-9dd5fc665218",
   "metadata": {},
   "outputs": [],
   "source": [
    "#from lib import dog\n",
    "#dog.bark()\n",
    "\n",
    "# from lib.dog import bark\n",
    "# bark()\n"
   ]
  },
  {
   "cell_type": "code",
   "execution_count": 338,
   "id": "57c261b7-4e4d-4dc9-bfcd-0f6bb04802ca",
   "metadata": {},
   "outputs": [
    {
     "name": "stdout",
     "output_type": "stream",
     "text": [
      "2.0\n"
     ]
    }
   ],
   "source": [
    "import math\n",
    "\n",
    "print(math.sqrt(4))"
   ]
  },
  {
   "cell_type": "code",
   "execution_count": 340,
   "id": "d4ff2d19-5cdc-43ed-a672-3f8cb3e192ae",
   "metadata": {},
   "outputs": [
    {
     "name": "stdout",
     "output_type": "stream",
     "text": [
      "2.0\n"
     ]
    }
   ],
   "source": [
    "from math import sqrt\n",
    "\n",
    "print(sqrt(4))"
   ]
  },
  {
   "cell_type": "code",
   "execution_count": 342,
   "id": "e2b5a261-e4e8-4fcc-9b65-ee934972105e",
   "metadata": {},
   "outputs": [
    {
     "name": "stdout",
     "output_type": "stream",
     "text": [
      "hello\n"
     ]
    }
   ],
   "source": [
    "# Accepting Arguments\n",
    "print(\"hello\")"
   ]
  },
  {
   "cell_type": "code",
   "execution_count": 344,
   "id": "cf0e7051-ea15-4f2d-b5d8-2e2d48224960",
   "metadata": {},
   "outputs": [],
   "source": [
    "# python main.py - to run the program"
   ]
  },
  {
   "cell_type": "code",
   "execution_count": 350,
   "id": "cff3deef-7b94-46f0-81bb-3aa44d0edd3d",
   "metadata": {},
   "outputs": [],
   "source": [
    "import sys\n",
    "\n",
    "# print(sys.argv) printing arguments as a list"
   ]
  },
  {
   "cell_type": "code",
   "execution_count": 352,
   "id": "6aad6ae5-5e1e-4733-8fa2-72eceaff94d8",
   "metadata": {},
   "outputs": [
    {
     "name": "stderr",
     "output_type": "stream",
     "text": [
      "usage: ipykernel_launcher.py [-h] -c color\n",
      "ipykernel_launcher.py: error: the following arguments are required: -c/--color\n"
     ]
    },
    {
     "ename": "SystemExit",
     "evalue": "2",
     "output_type": "error",
     "traceback": [
      "An exception has occurred, use %tb to see the full traceback.\n",
      "\u001b[0;31mSystemExit\u001b[0m\u001b[0;31m:\u001b[0m 2\n"
     ]
    },
    {
     "name": "stderr",
     "output_type": "stream",
     "text": [
      "/opt/anaconda3/lib/python3.11/site-packages/IPython/core/interactiveshell.py:3561: UserWarning: To exit: use 'exit', 'quit', or Ctrl-D.\n",
      "  warn(\"To exit: use 'exit', 'quit', or Ctrl-D.\", stacklevel=1)\n"
     ]
    }
   ],
   "source": [
    "import argparse\n",
    "\n",
    "parser = argparse.ArgumentParser(\n",
    "    description='This program prints the name of my dogs'\n",
    ")\n",
    "\n",
    "parser.add_argument('-c', '--color', metavar='color', required=True, choices={'red', 'yellow'}, help='the color to search for')\n",
    "\n",
    "args = parser.parse_args()\n",
    "\n",
    "print(args.color)\n",
    "\n",
    "# run using python main.py -c red"
   ]
  },
  {
   "cell_type": "code",
   "execution_count": 358,
   "id": "88aca552-2a18-4e09-983c-040d4130e14e",
   "metadata": {},
   "outputs": [
    {
     "name": "stdout",
     "output_type": "stream",
     "text": [
      "4\n",
      "8\n"
     ]
    }
   ],
   "source": [
    "# Lambda Functions\n",
    "\n",
    "multiplyBy2 = lambda num : num * 2\n",
    "\n",
    "multiply = lambda a,b : a * b\n",
    "\n",
    "print(multiplyBy2(2))\n",
    "print(multiply(2, 4))"
   ]
  },
  {
   "cell_type": "code",
   "execution_count": 364,
   "id": "4254bb98-5858-4dec-9719-bcbedafbbc47",
   "metadata": {},
   "outputs": [
    {
     "name": "stdout",
     "output_type": "stream",
     "text": [
      "[2, 4, 6]\n"
     ]
    }
   ],
   "source": [
    "# map(), filter(), reduce()\n",
    "\n",
    "numbers = [1, 2, 3]\n",
    "\n",
    "def double(num):\n",
    "    return num * 2\n",
    "\n",
    "result = map(double, numbers)\n",
    "print(list(result))"
   ]
  },
  {
   "cell_type": "code",
   "execution_count": 366,
   "id": "35ca1854-589c-4186-b033-5d83a447f855",
   "metadata": {},
   "outputs": [
    {
     "name": "stdout",
     "output_type": "stream",
     "text": [
      "[2, 4, 6]\n"
     ]
    }
   ],
   "source": [
    "double = lambda num : num * 2\n",
    "\n",
    "result = map(double, numbers)\n",
    "print(list(result))"
   ]
  },
  {
   "cell_type": "code",
   "execution_count": 368,
   "id": "70449eeb-c376-4498-9ec4-c0c9db6f835a",
   "metadata": {},
   "outputs": [
    {
     "name": "stdout",
     "output_type": "stream",
     "text": [
      "[2]\n"
     ]
    }
   ],
   "source": [
    "result = filter(lambda x : x % 2 == 0, numbers)\n",
    "\n",
    "print(list(result))"
   ]
  },
  {
   "cell_type": "code",
   "execution_count": 370,
   "id": "2749c319-415e-4541-b823-1f89b0a197bc",
   "metadata": {},
   "outputs": [
    {
     "name": "stdout",
     "output_type": "stream",
     "text": [
      "200\n"
     ]
    }
   ],
   "source": [
    "# reduce\n",
    "\n",
    "expenses = [\n",
    "    ('Dinner', 80),\n",
    "    ('Car repair', 120)\n",
    "]\n",
    "\n",
    "sum = 0\n",
    "for expense in expenses:\n",
    "    sum += expense[1]\n",
    "\n",
    "print(sum)\n"
   ]
  },
  {
   "cell_type": "code",
   "execution_count": 374,
   "id": "4de6bfa7-2640-4d22-9b42-c97d1499f177",
   "metadata": {},
   "outputs": [
    {
     "name": "stdout",
     "output_type": "stream",
     "text": [
      "200\n"
     ]
    }
   ],
   "source": [
    "from functools import reduce\n",
    "\n",
    "sum = reduce(lambda a,b : a[1] + b[1], expenses)\n",
    "\n",
    "print(sum)"
   ]
  },
  {
   "cell_type": "code",
   "execution_count": 380,
   "id": "c9d50bd7-c6d2-4786-a482-feb1ee053d3d",
   "metadata": {},
   "outputs": [
    {
     "name": "stdout",
     "output_type": "stream",
     "text": [
      "6\n"
     ]
    }
   ],
   "source": [
    "# Recursion\n",
    "\n",
    "# Calculate Factorial\n",
    "\n",
    "def factorial(n):\n",
    "    if n == 1: \n",
    "        return 1;\n",
    "    return n * factorial(n - 1)\n",
    "\n",
    "print(factorial(3))"
   ]
  },
  {
   "cell_type": "code",
   "execution_count": 390,
   "id": "463d71ab-acc5-41ce-9671-3c5063d5ccd2",
   "metadata": {},
   "outputs": [
    {
     "name": "stdout",
     "output_type": "stream",
     "text": [
      "before\n",
      "hello\n",
      "after\n"
     ]
    },
    {
     "data": {
      "text/plain": [
       "'hello'"
      ]
     },
     "execution_count": 390,
     "metadata": {},
     "output_type": "execute_result"
    }
   ],
   "source": [
    "# Decorators\n",
    "\n",
    "def logtime(func):\n",
    "    def wrapper():\n",
    "        print(\"before\")\n",
    "        val = func()\n",
    "        print(\"after\")\n",
    "        return val\n",
    "    return wrapper     \n",
    "\n",
    "@logtime\n",
    "def hello():\n",
    "    print(\"hello\")\n",
    "    return \"hello\"\n",
    "\n",
    "hello()"
   ]
  },
  {
   "cell_type": "code",
   "execution_count": 394,
   "id": "1c05b82b-7d37-4e04-83e9-6df4b86de12b",
   "metadata": {},
   "outputs": [
    {
     "name": "stdout",
     "output_type": "stream",
     "text": [
      "6\n",
      "Help on class Dog in module __main__:\n",
      "\n",
      "class Dog(builtins.object)\n",
      " |  Dog(name, age)\n",
      " |  \n",
      " |  A class representating a dog\n",
      " |  \n",
      " |  Methods defined here:\n",
      " |  \n",
      " |  __init__(self, name, age)\n",
      " |      Initialize a new dog\n",
      " |  \n",
      " |  bark(self)\n",
      " |      Let the dog bark\n",
      " |  \n",
      " |  ----------------------------------------------------------------------\n",
      " |  Data descriptors defined here:\n",
      " |  \n",
      " |  __dict__\n",
      " |      dictionary for instance variables\n",
      " |  \n",
      " |  __weakref__\n",
      " |      list of weak references to the object\n",
      "\n",
      "None\n"
     ]
    }
   ],
   "source": [
    "# Docstrings\n",
    "\n",
    "def increment(n):\n",
    "    \"\"\"Increment a number\"\"\"\n",
    "    return n + 1\n",
    "\n",
    "print(increment(5))\n",
    "\n",
    "class Dog:\n",
    "    \"\"\"A class representating a dog\"\"\"\n",
    "    def __init__(self, name, age):\n",
    "        \"\"\"Initialize a new dog\"\"\"\n",
    "        self.name = name\n",
    "        self.age = age\n",
    "\n",
    "    def bark(self):\n",
    "        \"\"\"Let the dog bark\"\"\"\n",
    "        print('WOF!')\n",
    "\n",
    "print(help(Dog))"
   ]
  },
  {
   "cell_type": "code",
   "execution_count": 398,
   "id": "e83a4b9b-1a5e-4d21-9b86-815c07793709",
   "metadata": {},
   "outputs": [
    {
     "name": "stdout",
     "output_type": "stream",
     "text": [
      "101\n",
      "0\n"
     ]
    }
   ],
   "source": [
    "# Annotations\n",
    "\n",
    "def increment(n : int) -> int:\n",
    "    return n + 1\n",
    "\n",
    "count: int = 0\n",
    "\n",
    "print(increment(100))\n",
    "print(count)"
   ]
  },
  {
   "cell_type": "code",
   "execution_count": 402,
   "id": "49c94e46-c356-4ee3-b3b7-b30ee6753ad5",
   "metadata": {},
   "outputs": [
    {
     "name": "stdout",
     "output_type": "stream",
     "text": [
      "Cannot divide by zero!\n",
      "1\n"
     ]
    }
   ],
   "source": [
    "# Exceptions\n",
    "'''\n",
    "try:\n",
    "    # some lines of code\n",
    "except <ERROR1>:\n",
    "    # handler <ERROR1>\n",
    "except <ERROR2>:\n",
    "    # handle <ERROR2>\n",
    "else:\n",
    "    # no exceptions were raised, the code ran successfully\n",
    "finally:\n",
    "    # do something in any case\n",
    "'''\n",
    "try:\n",
    "    result = 2/0\n",
    "except ZeroDivisionError:\n",
    "    print('Cannot divide by zero!')\n",
    "finally:\n",
    "    result = 1\n",
    "\n",
    "print(result)\n",
    "    "
   ]
  },
  {
   "cell_type": "code",
   "execution_count": 404,
   "id": "2a9b6e47-ae56-4eaa-9abd-0bdbd3243cd3",
   "metadata": {},
   "outputs": [
    {
     "name": "stdout",
     "output_type": "stream",
     "text": [
      "An error!\n"
     ]
    }
   ],
   "source": [
    "try:\n",
    "    raise Exception('An error!')\n",
    "except Exception as error:\n",
    "    print(error)"
   ]
  },
  {
   "cell_type": "code",
   "execution_count": 408,
   "id": "1a29c3b8-b250-4a82-bf88-876ea4b7528a",
   "metadata": {},
   "outputs": [
    {
     "name": "stdout",
     "output_type": "stream",
     "text": [
      "inside\n",
      "Dog not found!\n"
     ]
    }
   ],
   "source": [
    "class DogNotFoundException(Exception):\n",
    "    print(\"inside\")\n",
    "    pass\n",
    "\n",
    "try:\n",
    "    raise DogNotFoundException()\n",
    "except DogNotFoundException:\n",
    "    print('Dog not found!')"
   ]
  },
  {
   "cell_type": "code",
   "execution_count": 415,
   "id": "cf2ea884-af85-4f6f-9acd-26dc62c633e0",
   "metadata": {},
   "outputs": [
    {
     "name": "stdout",
     "output_type": "stream",
     "text": [
      "Current Directory: /Users/sanjay/Documents/Sanjay/Python\n",
      "I CREATED THIS FILE!\n",
      "I CREATED THIS FILE!\n"
     ]
    }
   ],
   "source": [
    "import os\n",
    "\n",
    "current_dir = os.getcwd()\n",
    "print(\"Current Directory:\", current_dir)\n",
    "\n",
    "filename = '/Users/sanjay/Documents/Sanjay/Python/demo.txt'\n",
    "\n",
    "try:\n",
    "    file = open(filename, 'r')\n",
    "    content = file.read()\n",
    "    print(content)\n",
    "finally:\n",
    "    file.close()\n",
    "\n",
    "# try with resources - with\n",
    "\n",
    "with open(filename, 'r') as file:\n",
    "    content = file.read()\n",
    "    print(content)\n",
    "    "
   ]
  },
  {
   "cell_type": "markdown",
   "id": "04b178a7-c371-47c8-baae-8ce36946b9f5",
   "metadata": {},
   "source": [
    "# pip\n",
    "\n",
    "# To download any dependency use pip install <Dependency Name>\n",
    "# pip install requests\n",
    "\n",
    "# To upgrade pip install -U requests\n",
    "# To uninstall pip uninstall requests\n",
    "\n",
    "# To see the information of the package - pip show requests\n"
   ]
  },
  {
   "cell_type": "markdown",
   "id": "c4c26902-5a09-448a-96b2-6d3cc0bcf078",
   "metadata": {},
   "source": [
    "# List Comprehension"
   ]
  },
  {
   "cell_type": "code",
   "execution_count": 425,
   "id": "b42a1213-c24f-4f3d-a18d-3e1230fc2655",
   "metadata": {},
   "outputs": [
    {
     "name": "stdout",
     "output_type": "stream",
     "text": [
      "[1, 4, 9, 16, 25]\n"
     ]
    }
   ],
   "source": [
    "numbers = [1, 2, 3, 4, 5]\n",
    "\n",
    "numbers_power_2 = [n**2 for n in numbers]\n",
    "print(numbers_power_2)"
   ]
  },
  {
   "cell_type": "code",
   "execution_count": 435,
   "id": "a424b59c-1d80-4806-b287-1d8696838a98",
   "metadata": {},
   "outputs": [
    {
     "name": "stdout",
     "output_type": "stream",
     "text": [
      "[1, 4, 9, 16, 25]\n",
      "[1, 4, 9, 16, 25]\n"
     ]
    }
   ],
   "source": [
    "# Without List Comprehension\n",
    "\n",
    "# 1. Using map function\n",
    "\n",
    "numbers_power_2 = lambda x : x ** 2\n",
    "result = map(numbers_power_2, numbers)\n",
    "print(list(result))\n",
    "\n",
    "# 2. Using for loop\n",
    "numbers_power_2 = []\n",
    "for n in numbers:\n",
    "    numbers_power_2.append(n ** 2)\n",
    "\n",
    "print(numbers_power_2)\n",
    "    "
   ]
  },
  {
   "cell_type": "code",
   "execution_count": 449,
   "id": "1778aae4-da15-4685-9d77-59c8b1f2460a",
   "metadata": {},
   "outputs": [
    {
     "name": "stdout",
     "output_type": "stream",
     "text": [
      "<class '__main__.Dog'>\n",
      "<class '__main__.Cat'>\n",
      "(<class '__main__.Animal'>,)\n",
      "Eating dog food\n",
      "Eating cat food\n",
      "--------------------\n",
      "Eating dog food\n",
      "Eating cat food\n",
      "Eating animal food\n"
     ]
    }
   ],
   "source": [
    "# Polymorphism\n",
    "\n",
    "class Animal:\n",
    "    def eat(self):\n",
    "        print('Eating animal food')\n",
    "        \n",
    "class Dog(Animal):\n",
    "    def eat(self):\n",
    "        print('Eating dog food')\n",
    "\n",
    "class Cat(Animal):\n",
    "    def eat(self):\n",
    "        print('Eating cat food')\n",
    "        \n",
    "animal1: Animal = Dog()\n",
    "animal2: Animal = Cat()\n",
    "\n",
    "print(type(animal1))\n",
    "print(type(animal2))\n",
    "\n",
    "print(animal1.__class__.__bases__)\n",
    "\n",
    "animal1.eat()\n",
    "animal2.eat()\n",
    "\n",
    "print('--------------------')\n",
    "\n",
    "for animal in [Dog(), Cat(), Animal()]:\n",
    "    animal.eat()"
   ]
  },
  {
   "cell_type": "code",
   "execution_count": 453,
   "id": "a15b44fd-4254-472d-84d8-c6516efdf848",
   "metadata": {
    "editable": true,
    "slideshow": {
     "slide_type": ""
    },
    "tags": []
   },
   "outputs": [
    {
     "name": "stdout",
     "output_type": "stream",
     "text": [
      "True\n"
     ]
    }
   ],
   "source": [
    "# Operator Overloading\n",
    "\n",
    "class Dog:\n",
    "    # the Dog class\n",
    "    def __init__(self, name, age):\n",
    "        self.name = name\n",
    "        self.age = age\n",
    "    def __gt__(self, other):\n",
    "        return True if self.age > other.age else False\n",
    "\n",
    "roger = Dog('Roger', 8)\n",
    "syd = Dog('Syd', 7)\n",
    "\n",
    "print(roger > syd)"
   ]
  },
  {
   "cell_type": "code",
   "execution_count": null,
   "id": "f18acee1-8423-4843-9900-f9ac20165da7",
   "metadata": {},
   "outputs": [],
   "source": []
  }
 ],
 "metadata": {
  "kernelspec": {
   "display_name": "Python 3 (ipykernel)",
   "language": "python",
   "name": "python3"
  },
  "language_info": {
   "codemirror_mode": {
    "name": "ipython",
    "version": 3
   },
   "file_extension": ".py",
   "mimetype": "text/x-python",
   "name": "python",
   "nbconvert_exporter": "python",
   "pygments_lexer": "ipython3",
   "version": "3.11.7"
  }
 },
 "nbformat": 4,
 "nbformat_minor": 5
}
