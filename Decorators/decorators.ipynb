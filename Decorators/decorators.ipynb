{
 "cells": [
  {
   "cell_type": "code",
   "execution_count": 22,
   "id": "6b839436-c06a-445e-8b1d-6c62eb501f49",
   "metadata": {},
   "outputs": [],
   "source": [
    "def hello():\n",
    "    return \"Hello!\""
   ]
  },
  {
   "cell_type": "code",
   "execution_count": 3,
   "id": "76de1e49-aaa3-4ce6-9d1f-4baf9a68ccce",
   "metadata": {},
   "outputs": [
    {
     "data": {
      "text/plain": [
       "<function __main__.hello()>"
      ]
     },
     "execution_count": 3,
     "metadata": {},
     "output_type": "execute_result"
    }
   ],
   "source": [
    "hello"
   ]
  },
  {
   "cell_type": "code",
   "execution_count": 5,
   "id": "985df9da-85ac-466e-926e-504c7a43cbb4",
   "metadata": {},
   "outputs": [
    {
     "data": {
      "text/plain": [
       "'Hello!'"
      ]
     },
     "execution_count": 5,
     "metadata": {},
     "output_type": "execute_result"
    }
   ],
   "source": [
    "hello()"
   ]
  },
  {
   "cell_type": "markdown",
   "id": "3eff4296-d8fe-4bfb-a2d5-587aec4dbf93",
   "metadata": {},
   "source": [
    "Pass a function as a reference to other variable."
   ]
  },
  {
   "cell_type": "code",
   "execution_count": 12,
   "id": "68a88156-be27-4d61-855c-400426209e59",
   "metadata": {},
   "outputs": [],
   "source": [
    "greet = hello"
   ]
  },
  {
   "cell_type": "code",
   "execution_count": 14,
   "id": "80147c82-3d60-46cd-b7b7-d29d8fefccb8",
   "metadata": {},
   "outputs": [
    {
     "data": {
      "text/plain": [
       "'Hello!'"
      ]
     },
     "execution_count": 14,
     "metadata": {},
     "output_type": "execute_result"
    }
   ],
   "source": [
    "greet()"
   ]
  },
  {
   "cell_type": "code",
   "execution_count": 24,
   "id": "ff07116f-3b9a-44ca-b4d4-d131185a1220",
   "metadata": {},
   "outputs": [],
   "source": [
    "del hello"
   ]
  },
  {
   "cell_type": "code",
   "execution_count": 26,
   "id": "b2165490-155f-4660-af8c-6b7692bc4c3d",
   "metadata": {},
   "outputs": [
    {
     "ename": "NameError",
     "evalue": "name 'hello' is not defined",
     "output_type": "error",
     "traceback": [
      "\u001b[0;31m---------------------------------------------------------------------------\u001b[0m",
      "\u001b[0;31mNameError\u001b[0m                                 Traceback (most recent call last)",
      "Cell \u001b[0;32mIn[26], line 1\u001b[0m\n\u001b[0;32m----> 1\u001b[0m hello\n",
      "\u001b[0;31mNameError\u001b[0m: name 'hello' is not defined"
     ]
    }
   ],
   "source": [
    "hello"
   ]
  },
  {
   "cell_type": "code",
   "execution_count": 28,
   "id": "064c222b-af7b-4f06-9bca-52f8d5c01540",
   "metadata": {},
   "outputs": [],
   "source": [
    "def hello(name=\"Sanjay\"):\n",
    "    print(\"The hello() function has been executed!\")\n",
    "\n",
    "    def greet():\n",
    "        return \"\\t This is the greet() func inside hello!\"\n",
    "\n",
    "    def welcome():\n",
    "        return \"\\t This is welcome() inside hello\"\n",
    "\n",
    "    print(\"I am going to return a function!!\")\n",
    "\n",
    "    if name == \"Sanjay\":\n",
    "        return greet\n",
    "    else:\n",
    "        return welcome"
   ]
  },
  {
   "cell_type": "code",
   "execution_count": 30,
   "id": "04b9968b-0e40-47aa-acf2-21599c05bc13",
   "metadata": {},
   "outputs": [
    {
     "name": "stdout",
     "output_type": "stream",
     "text": [
      "The hello() function has been executed!\n",
      "I am going to return a function!!\n"
     ]
    }
   ],
   "source": [
    "my_new_func = hello('Sanjay')"
   ]
  },
  {
   "cell_type": "code",
   "execution_count": 33,
   "id": "072fc852-d780-4dbe-b4b0-7a486bf9adca",
   "metadata": {},
   "outputs": [
    {
     "data": {
      "text/plain": [
       "<function __main__.hello.<locals>.greet()>"
      ]
     },
     "execution_count": 33,
     "metadata": {},
     "output_type": "execute_result"
    }
   ],
   "source": [
    "my_new_func"
   ]
  },
  {
   "cell_type": "code",
   "execution_count": 37,
   "id": "40a9b276-802d-4989-b7c1-64cf01628cf5",
   "metadata": {},
   "outputs": [
    {
     "name": "stdout",
     "output_type": "stream",
     "text": [
      "\t This is the greet() func inside hello!\n"
     ]
    }
   ],
   "source": [
    "print(my_new_func())"
   ]
  },
  {
   "cell_type": "code",
   "execution_count": null,
   "id": "86d6c117-c7c1-4538-9ec2-dab2d40f05a1",
   "metadata": {},
   "outputs": [],
   "source": []
  },
  {
   "cell_type": "code",
   "execution_count": 43,
   "id": "dedb5d91-af84-48c0-a23e-6965835128f6",
   "metadata": {},
   "outputs": [],
   "source": [
    "def hello():\n",
    "    return \"Hello!\""
   ]
  },
  {
   "cell_type": "code",
   "execution_count": 45,
   "id": "ecc8b14e-41e7-459a-a023-ae44705f9f11",
   "metadata": {},
   "outputs": [],
   "source": [
    "def other(some_def_func):\n",
    "    print('Other code runs here!')\n",
    "    print(some_def_func())"
   ]
  },
  {
   "cell_type": "code",
   "execution_count": 47,
   "id": "e3f3e9ea-6eea-4e47-8415-baa7737c346b",
   "metadata": {},
   "outputs": [
    {
     "name": "stdout",
     "output_type": "stream",
     "text": [
      "Other code runs here!\n",
      "Hello!\n"
     ]
    }
   ],
   "source": [
    "other(hello)"
   ]
  },
  {
   "cell_type": "markdown",
   "id": "42210235-fafa-4192-a7b9-089cda1c37a3",
   "metadata": {},
   "source": [
    "Decorator Implementation"
   ]
  },
  {
   "cell_type": "code",
   "execution_count": 50,
   "id": "6dae5a25-55d2-4441-98cf-46f4a4929e99",
   "metadata": {},
   "outputs": [],
   "source": [
    "def new_decorator(original_func):\n",
    "\n",
    "    def wrap_func():\n",
    "\n",
    "        print('Some extra code, before the original function')\n",
    "\n",
    "        original_func()\n",
    "\n",
    "        print('Some extra code, after the original function!')\n",
    "\n",
    "    return wrap_func"
   ]
  },
  {
   "cell_type": "code",
   "execution_count": 52,
   "id": "633bbce9-8ba2-4010-b001-33bb15ed7d87",
   "metadata": {},
   "outputs": [],
   "source": [
    "def func_needs_decorator():\n",
    "    print(\"I want to be decorated!!\")"
   ]
  },
  {
   "cell_type": "code",
   "execution_count": 54,
   "id": "f2463616-58b3-4a00-ae6e-3446036741a8",
   "metadata": {},
   "outputs": [
    {
     "name": "stdout",
     "output_type": "stream",
     "text": [
      "I want to be decorated!!\n"
     ]
    }
   ],
   "source": [
    "func_needs_decorator()"
   ]
  },
  {
   "cell_type": "code",
   "execution_count": 58,
   "id": "0ad4d5f4-1038-4056-a146-327675b78ed9",
   "metadata": {},
   "outputs": [],
   "source": [
    "decorated_func = new_decorator(func_needs_decorator)"
   ]
  },
  {
   "cell_type": "code",
   "execution_count": 60,
   "id": "7fa5adbf-7e0d-445a-9f70-44563b2763de",
   "metadata": {},
   "outputs": [
    {
     "name": "stdout",
     "output_type": "stream",
     "text": [
      "Some extra code, before the original function\n",
      "I want to be decorated!!\n",
      "Some extra code, after the original function!\n"
     ]
    }
   ],
   "source": [
    "decorated_func()"
   ]
  },
  {
   "cell_type": "code",
   "execution_count": 66,
   "id": "69c39020-1e63-443e-810d-c1ea4dedc0ea",
   "metadata": {},
   "outputs": [],
   "source": [
    "@new_decorator\n",
    "def func_needs_decorator_1():\n",
    "    print(\"I want to be decorated!!\")"
   ]
  },
  {
   "cell_type": "code",
   "execution_count": 68,
   "id": "b776d2c9-7775-4530-a848-3231f32c711e",
   "metadata": {},
   "outputs": [
    {
     "name": "stdout",
     "output_type": "stream",
     "text": [
      "Some extra code, before the original function\n",
      "I want to be decorated!!\n",
      "Some extra code, after the original function!\n"
     ]
    }
   ],
   "source": [
    "func_needs_decorator_1()"
   ]
  }
 ],
 "metadata": {
  "kernelspec": {
   "display_name": "Python 3 (ipykernel)",
   "language": "python",
   "name": "python3"
  },
  "language_info": {
   "codemirror_mode": {
    "name": "ipython",
    "version": 3
   },
   "file_extension": ".py",
   "mimetype": "text/x-python",
   "name": "python",
   "nbconvert_exporter": "python",
   "pygments_lexer": "ipython3",
   "version": "3.11.7"
  }
 },
 "nbformat": 4,
 "nbformat_minor": 5
}
