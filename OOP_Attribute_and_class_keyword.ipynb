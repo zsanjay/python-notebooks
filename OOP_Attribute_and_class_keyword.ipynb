{
 "cells": [
  {
   "cell_type": "code",
   "execution_count": 1,
   "id": "5e0f884e-dc91-4fb5-a713-dc673b911250",
   "metadata": {},
   "outputs": [],
   "source": [
    "class Sample():\n",
    "    pass"
   ]
  },
  {
   "cell_type": "code",
   "execution_count": 3,
   "id": "9205276c-4935-4b45-8733-e9f35b868784",
   "metadata": {},
   "outputs": [],
   "source": [
    "my_sample = Sample()"
   ]
  },
  {
   "cell_type": "code",
   "execution_count": 5,
   "id": "b469f407-675d-404b-98fa-adf9b515e605",
   "metadata": {},
   "outputs": [
    {
     "data": {
      "text/plain": [
       "__main__.Sample"
      ]
     },
     "execution_count": 5,
     "metadata": {},
     "output_type": "execute_result"
    }
   ],
   "source": [
    "type(my_sample)"
   ]
  },
  {
   "cell_type": "code",
   "execution_count": 39,
   "id": "711e5263-5d26-49ea-9e07-664d8c13fc01",
   "metadata": {},
   "outputs": [],
   "source": [
    "class Dog():\n",
    "\n",
    "    def __init__(this,mybreed,name,spots):\n",
    "\n",
    "        # Attributes\n",
    "        this.breed = mybreed\n",
    "        this.name = name\n",
    "        this.spots = spots"
   ]
  },
  {
   "cell_type": "code",
   "execution_count": 41,
   "id": "e83af953-30ee-4e3b-b0bc-a977a03ce780",
   "metadata": {},
   "outputs": [
    {
     "ename": "TypeError",
     "evalue": "Dog.__init__() missing 3 required positional arguments: 'mybreed', 'name', and 'spots'",
     "output_type": "error",
     "traceback": [
      "\u001b[0;31m---------------------------------------------------------------------------\u001b[0m",
      "\u001b[0;31mTypeError\u001b[0m                                 Traceback (most recent call last)",
      "Cell \u001b[0;32mIn[41], line 1\u001b[0m\n\u001b[0;32m----> 1\u001b[0m my_dog \u001b[38;5;241m=\u001b[39m Dog()\n",
      "\u001b[0;31mTypeError\u001b[0m: Dog.__init__() missing 3 required positional arguments: 'mybreed', 'name', and 'spots'"
     ]
    }
   ],
   "source": [
    "my_dog = Dog()"
   ]
  },
  {
   "cell_type": "code",
   "execution_count": 3,
   "id": "60dffd6b-f536-48c3-8251-3f034ccc3770",
   "metadata": {},
   "outputs": [],
   "source": [
    "my_dog = Dog(mybreed = 'Lab', name = \"Rocky\" , spots = False)"
   ]
  },
  {
   "cell_type": "code",
   "execution_count": 47,
   "id": "13b3f99f-6d88-45a8-93b0-e8c29c1de8fe",
   "metadata": {},
   "outputs": [
    {
     "data": {
      "text/plain": [
       "__main__.Dog"
      ]
     },
     "execution_count": 47,
     "metadata": {},
     "output_type": "execute_result"
    }
   ],
   "source": [
    "type(my_dog)"
   ]
  },
  {
   "cell_type": "code",
   "execution_count": 49,
   "id": "949c82df-bc40-437f-b91e-f7b1707ebeac",
   "metadata": {},
   "outputs": [
    {
     "data": {
      "text/plain": [
       "False"
      ]
     },
     "execution_count": 49,
     "metadata": {},
     "output_type": "execute_result"
    }
   ],
   "source": [
    "my_dog.breed\n",
    "my_dog.name\n",
    "my_dog.spots"
   ]
  },
  {
   "cell_type": "code",
   "execution_count": 27,
   "id": "d71765e8-c2ac-4309-93c6-9f4b4b42fc60",
   "metadata": {},
   "outputs": [],
   "source": [
    "class Dog():\n",
    "\n",
    "    # CLASS LEVEL OBJECT ATTRIBUTE\n",
    "    # SAME FOR ANY INSTANCE OF A CLASS\n",
    "    species = 'mammal'\n",
    "    \n",
    "    def __init__(this,mybreed,name):\n",
    "\n",
    "        # Attributes\n",
    "        this.breed = mybreed\n",
    "        this.name = name\n",
    "        #this.spots = spots\n",
    "\n",
    "    def bark(this,number):\n",
    "        print(\"WOOF! My name is {} and the number is {}\".format(this.name, number))"
   ]
  },
  {
   "cell_type": "code",
   "execution_count": 29,
   "id": "f2ce279a-eabb-4ab3-a5b2-d9421a87bffb",
   "metadata": {},
   "outputs": [],
   "source": [
    "my_dog = Dog('Lab',\"Rocky\")"
   ]
  },
  {
   "cell_type": "code",
   "execution_count": 31,
   "id": "23c85752-2386-45a4-b41e-d8042d1ef653",
   "metadata": {},
   "outputs": [
    {
     "data": {
      "text/plain": [
       "'mammal'"
      ]
     },
     "execution_count": 31,
     "metadata": {},
     "output_type": "execute_result"
    }
   ],
   "source": [
    "my_dog.species"
   ]
  },
  {
   "cell_type": "code",
   "execution_count": 33,
   "id": "9da3dc48-f87c-46e9-ab01-c1f127260312",
   "metadata": {},
   "outputs": [
    {
     "name": "stdout",
     "output_type": "stream",
     "text": [
      "WOOF! My name is Rocky and the number is 10\n"
     ]
    }
   ],
   "source": [
    "my_dog.bark(10)"
   ]
  },
  {
   "cell_type": "code",
   "execution_count": 55,
   "id": "ce1ed97e-bb4e-4756-b2d7-0f8a0903df92",
   "metadata": {},
   "outputs": [],
   "source": [
    "class Circle():\n",
    "\n",
    "    # CLASS OBJECT ATTRIBUTE\n",
    "    pi = 3.14\n",
    "\n",
    "    def __init__(this,radius=1):\n",
    "        this.radius = radius\n",
    "        this.area = radius * radius * Circle.pi\n",
    "\n",
    "    # METHOD\n",
    "    def get_circumfrence(this):\n",
    "        return this.radius * Circle.pi * 2"
   ]
  },
  {
   "cell_type": "code",
   "execution_count": 57,
   "id": "86b7cbab-8ea7-42c5-92a2-8a42f9252807",
   "metadata": {},
   "outputs": [],
   "source": [
    "my_circle = Circle(30)"
   ]
  },
  {
   "cell_type": "code",
   "execution_count": 59,
   "id": "e2353644-01c7-456b-9988-7565bec3dd16",
   "metadata": {},
   "outputs": [
    {
     "data": {
      "text/plain": [
       "188.4"
      ]
     },
     "execution_count": 59,
     "metadata": {},
     "output_type": "execute_result"
    }
   ],
   "source": [
    "my_circle.get_circumfrence()"
   ]
  },
  {
   "cell_type": "code",
   "execution_count": 61,
   "id": "df9e9f29-f1b8-4dc6-8d87-7fb265e46828",
   "metadata": {},
   "outputs": [
    {
     "data": {
      "text/plain": [
       "2826.0"
      ]
     },
     "execution_count": 61,
     "metadata": {},
     "output_type": "execute_result"
    }
   ],
   "source": [
    "my_circle.area"
   ]
  },
  {
   "cell_type": "code",
   "execution_count": 89,
   "id": "c8ffdd85-05dd-4bb7-ac6b-8ecfc10b9bbc",
   "metadata": {},
   "outputs": [],
   "source": [
    "# INHERITANCE - BASE CLASS\n",
    "class Animal():\n",
    "\n",
    "    def __init__(this):\n",
    "        print(\"ANIMAL CREATED\")\n",
    "\n",
    "    def who_am_i(this):\n",
    "        print(\"I am an animal\")\n",
    "\n",
    "    def eat(this):\n",
    "        print(\"I am eating\")"
   ]
  },
  {
   "cell_type": "code",
   "execution_count": 75,
   "id": "ae686639-6c41-4f63-9730-26bca9f50637",
   "metadata": {},
   "outputs": [
    {
     "name": "stdout",
     "output_type": "stream",
     "text": [
      "ANIMAL CREATED\n"
     ]
    }
   ],
   "source": [
    "animal = Animal()"
   ]
  },
  {
   "cell_type": "code",
   "execution_count": 77,
   "id": "2a1f084e-56e6-4f4e-ba98-3fa97717cd4c",
   "metadata": {},
   "outputs": [
    {
     "name": "stdout",
     "output_type": "stream",
     "text": [
      "I am an animal\n"
     ]
    }
   ],
   "source": [
    "animal.who_am_i()"
   ]
  },
  {
   "cell_type": "code",
   "execution_count": 79,
   "id": "9aa75a8b-8598-4089-9088-a45f3e787262",
   "metadata": {},
   "outputs": [
    {
     "name": "stdout",
     "output_type": "stream",
     "text": [
      "I am eating\n"
     ]
    }
   ],
   "source": [
    "animal.eat()"
   ]
  },
  {
   "cell_type": "code",
   "execution_count": 117,
   "id": "829fe6b6-faa0-44d1-b487-9ec8cc24733a",
   "metadata": {},
   "outputs": [],
   "source": [
    "# INHERITANCE\n",
    "class Dog(Animal):\n",
    "\n",
    "    def __init__(this):\n",
    "        Animal.__init__(this)\n",
    "        print(\"Dog Created\")\n",
    "\n",
    "    # Overiding\n",
    "    #def who_am_i(this):\n",
    "        #print(\"I am a dog!\")\n",
    "\n",
    "    def eat(this):\n",
    "        print(\"I am a dog and eating\")\n",
    "\n",
    "    def bark(this):\n",
    "        print(\"WOOF!\")"
   ]
  },
  {
   "cell_type": "code",
   "execution_count": 119,
   "id": "35e0e5a3-62b0-4549-9c03-cb5307235b05",
   "metadata": {},
   "outputs": [
    {
     "name": "stdout",
     "output_type": "stream",
     "text": [
      "ANIMAL CREATED\n",
      "Dog Created\n"
     ]
    }
   ],
   "source": [
    "mydog = Dog()"
   ]
  },
  {
   "cell_type": "code",
   "execution_count": 121,
   "id": "41093a56-c5df-42a3-b3de-e9e6ff651dc9",
   "metadata": {},
   "outputs": [
    {
     "name": "stdout",
     "output_type": "stream",
     "text": [
      "I am a dog and eating\n"
     ]
    }
   ],
   "source": [
    "mydog.eat()"
   ]
  },
  {
   "cell_type": "code",
   "execution_count": 125,
   "id": "901e8fc7-3490-4418-9d06-301b00f41703",
   "metadata": {},
   "outputs": [
    {
     "name": "stdout",
     "output_type": "stream",
     "text": [
      "I am an animal\n"
     ]
    }
   ],
   "source": [
    "mydog.who_am_i()"
   ]
  },
  {
   "cell_type": "code",
   "execution_count": 123,
   "id": "94ffefdf-1cd4-4d08-b29c-ee3fe0ff0046",
   "metadata": {},
   "outputs": [
    {
     "name": "stdout",
     "output_type": "stream",
     "text": [
      "WOOF!\n"
     ]
    }
   ],
   "source": [
    "mydog.bark()"
   ]
  },
  {
   "cell_type": "markdown",
   "id": "77dc1188-65b0-4de6-93c3-21dcb7db936d",
   "metadata": {},
   "source": [
    "Polymorphism"
   ]
  },
  {
   "cell_type": "code",
   "execution_count": 129,
   "id": "96822ce4-46fc-4820-aa13-669f87527833",
   "metadata": {},
   "outputs": [],
   "source": [
    "class Dog():\n",
    "\n",
    "    def __init__(self,name):\n",
    "        self.name = name\n",
    "\n",
    "    def speak(self):\n",
    "        return self.name + \" says woof!\""
   ]
  },
  {
   "cell_type": "code",
   "execution_count": 133,
   "id": "d450f68c-5657-4eb2-908d-710fb19a6811",
   "metadata": {},
   "outputs": [],
   "source": [
    "class Cat():\n",
    "\n",
    "    def __init__(self,name):\n",
    "        self.name = name\n",
    "\n",
    "    def speak(self):\n",
    "        return self.name + \" says meow!\""
   ]
  },
  {
   "cell_type": "code",
   "execution_count": 135,
   "id": "2eef1d2c-dc18-4891-860e-0aa7b5d01d57",
   "metadata": {},
   "outputs": [],
   "source": [
    "niko = Dog(\"niko\")\n",
    "felix = Cat(\"felix\")"
   ]
  },
  {
   "cell_type": "code",
   "execution_count": 137,
   "id": "38d315c7-5cdc-4814-ab5f-ad9081975967",
   "metadata": {},
   "outputs": [
    {
     "name": "stdout",
     "output_type": "stream",
     "text": [
      "niko says woof!\n",
      "felix says meow!\n"
     ]
    }
   ],
   "source": [
    "print(niko.speak())\n",
    "print(felix.speak())"
   ]
  },
  {
   "cell_type": "code",
   "execution_count": 139,
   "id": "12c2e2bb-7287-4fe6-9a56-71d3d7962bc6",
   "metadata": {},
   "outputs": [
    {
     "name": "stdout",
     "output_type": "stream",
     "text": [
      "<class '__main__.Dog'>\n",
      "niko says woof!\n",
      "<class '__main__.Cat'>\n",
      "felix says meow!\n"
     ]
    }
   ],
   "source": [
    "for pet in [niko,felix]:\n",
    "    print(type(pet))\n",
    "    print(pet.speak())"
   ]
  },
  {
   "cell_type": "code",
   "execution_count": 141,
   "id": "884e4f99-e7c7-4104-8520-11dc40738ad5",
   "metadata": {},
   "outputs": [],
   "source": [
    "def pet_speak(pet):\n",
    "    print(pet.speak())"
   ]
  },
  {
   "cell_type": "code",
   "execution_count": 143,
   "id": "951d0d8c-6869-4481-85d9-308d98fa8a37",
   "metadata": {},
   "outputs": [
    {
     "name": "stdout",
     "output_type": "stream",
     "text": [
      "niko says woof!\n",
      "felix says meow!\n"
     ]
    }
   ],
   "source": [
    "pet_speak(niko)\n",
    "pet_speak(felix)"
   ]
  },
  {
   "cell_type": "code",
   "execution_count": 147,
   "id": "48acaf12-531a-4d49-ab6c-890a21e43572",
   "metadata": {},
   "outputs": [],
   "source": [
    "class Animal():\n",
    "\n",
    "    def __init__(self,name):\n",
    "        self.name = name\n",
    "\n",
    "    def speak(this):\n",
    "        raise NotImplementedError(\"Subclass must implement this abstract method\")"
   ]
  },
  {
   "cell_type": "code",
   "execution_count": 149,
   "id": "ace250ce-2f16-4c54-b6c7-c28b049e5bea",
   "metadata": {},
   "outputs": [],
   "source": [
    "myanimal = Animal('fred')"
   ]
  },
  {
   "cell_type": "code",
   "execution_count": 151,
   "id": "d2575381-5b19-4f1e-b248-10e2f873cd15",
   "metadata": {},
   "outputs": [
    {
     "ename": "NotImplementedError",
     "evalue": "Subclass must implement this abstract method",
     "output_type": "error",
     "traceback": [
      "\u001b[0;31m---------------------------------------------------------------------------\u001b[0m",
      "\u001b[0;31mNotImplementedError\u001b[0m                       Traceback (most recent call last)",
      "Cell \u001b[0;32mIn[151], line 1\u001b[0m\n\u001b[0;32m----> 1\u001b[0m myanimal\u001b[38;5;241m.\u001b[39mspeak()\n",
      "Cell \u001b[0;32mIn[147], line 7\u001b[0m, in \u001b[0;36mAnimal.speak\u001b[0;34m(this)\u001b[0m\n\u001b[1;32m      6\u001b[0m \u001b[38;5;28;01mdef\u001b[39;00m \u001b[38;5;21mspeak\u001b[39m(this):\n\u001b[0;32m----> 7\u001b[0m     \u001b[38;5;28;01mraise\u001b[39;00m \u001b[38;5;167;01mNotImplementedError\u001b[39;00m(\u001b[38;5;124m\"\u001b[39m\u001b[38;5;124mSubclass must implement this abstract method\u001b[39m\u001b[38;5;124m\"\u001b[39m)\n",
      "\u001b[0;31mNotImplementedError\u001b[0m: Subclass must implement this abstract method"
     ]
    }
   ],
   "source": [
    "myanimal.speak()"
   ]
  },
  {
   "cell_type": "code",
   "execution_count": 155,
   "id": "fe5c2a22-b2c0-4ce1-aea5-451fc43d4e6f",
   "metadata": {},
   "outputs": [],
   "source": [
    "class Dog(Animal):\n",
    "\n",
    "    def speak(this):\n",
    "        return this.name + \" says woof!\""
   ]
  },
  {
   "cell_type": "code",
   "execution_count": 157,
   "id": "9938f098-baa0-45e2-869f-31856b9990d6",
   "metadata": {},
   "outputs": [],
   "source": [
    "class Cat(Animal):\n",
    "\n",
    "    def speak(this):\n",
    "        return this.name + \" says meow!\""
   ]
  },
  {
   "cell_type": "code",
   "execution_count": 163,
   "id": "424e370a-0caa-4534-9b9a-f9655234caf3",
   "metadata": {},
   "outputs": [],
   "source": [
    "fido = Dog(\"Fido\")"
   ]
  },
  {
   "cell_type": "code",
   "execution_count": 165,
   "id": "64ce0478-3d25-4839-b874-933f395f4b03",
   "metadata": {},
   "outputs": [],
   "source": [
    "isis = Cat(\"Isis\")"
   ]
  },
  {
   "cell_type": "code",
   "execution_count": 169,
   "id": "bc0a29e6-be2a-4cc3-80ff-667ab873b81b",
   "metadata": {},
   "outputs": [
    {
     "name": "stdout",
     "output_type": "stream",
     "text": [
      "Fido says woof!\n"
     ]
    }
   ],
   "source": [
    "print(fido.speak())"
   ]
  },
  {
   "cell_type": "code",
   "execution_count": 171,
   "id": "d7122538-7ae5-4bc1-90f4-f7758821ebd4",
   "metadata": {},
   "outputs": [
    {
     "name": "stdout",
     "output_type": "stream",
     "text": [
      "Isis says meow!\n"
     ]
    }
   ],
   "source": [
    "print(isis.speak())"
   ]
  },
  {
   "cell_type": "markdown",
   "id": "0837c564-c1bc-4295-98dc-16c5cbca3479",
   "metadata": {},
   "source": [
    "Special functions in class"
   ]
  },
  {
   "cell_type": "code",
   "execution_count": 218,
   "id": "5e728d20-d4d6-4f45-89b4-2df37095560b",
   "metadata": {},
   "outputs": [],
   "source": [
    "class Book():\n",
    "\n",
    "    def __init__(self,title,author,pages):\n",
    "\n",
    "        self.title = title\n",
    "        self.author = author\n",
    "        self.pages = pages\n",
    "\n",
    "    def __str__(this):\n",
    "        return f\"{this.title} by {this.author}\"\n",
    "\n",
    "    def __len__(this):\n",
    "        return this.pages\n",
    "\n",
    "    def __del__(this):\n",
    "        print(\"A book object has been deleted\")"
   ]
  },
  {
   "cell_type": "code",
   "execution_count": 220,
   "id": "0e44e4d3-683c-4235-b5f8-3f488a84a5b3",
   "metadata": {},
   "outputs": [],
   "source": [
    "b = Book(\"Python rocks\", \"Jose\", 200)"
   ]
  },
  {
   "cell_type": "code",
   "execution_count": 222,
   "id": "c9270ba4-ad80-457f-be9d-45b7789d5d88",
   "metadata": {},
   "outputs": [
    {
     "name": "stdout",
     "output_type": "stream",
     "text": [
      "Python rocks by Jose\n"
     ]
    }
   ],
   "source": [
    "print(b)"
   ]
  },
  {
   "cell_type": "code",
   "execution_count": 188,
   "id": "4cd1896b-700c-4ae4-a08c-709a73b576bf",
   "metadata": {},
   "outputs": [
    {
     "data": {
      "text/plain": [
       "'Python rocks by Jose'"
      ]
     },
     "execution_count": 188,
     "metadata": {},
     "output_type": "execute_result"
    }
   ],
   "source": [
    "str(b)"
   ]
  },
  {
   "cell_type": "code",
   "execution_count": 224,
   "id": "21d1db41-0050-4d9d-ae69-565b78d85ca0",
   "metadata": {},
   "outputs": [
    {
     "data": {
      "text/plain": [
       "200"
      ]
     },
     "execution_count": 224,
     "metadata": {},
     "output_type": "execute_result"
    }
   ],
   "source": [
    "len(b)"
   ]
  },
  {
   "cell_type": "code",
   "execution_count": 226,
   "id": "c7869895-0c6a-432c-a53a-dd732818b7c8",
   "metadata": {},
   "outputs": [
    {
     "name": "stdout",
     "output_type": "stream",
     "text": [
      "A book object has been deleted\n"
     ]
    }
   ],
   "source": [
    "del b"
   ]
  },
  {
   "cell_type": "code",
   "execution_count": 228,
   "id": "dfb74d27-2424-4b37-a1f9-dce04775239c",
   "metadata": {},
   "outputs": [
    {
     "ename": "NameError",
     "evalue": "name 'b' is not defined",
     "output_type": "error",
     "traceback": [
      "\u001b[0;31m---------------------------------------------------------------------------\u001b[0m",
      "\u001b[0;31mNameError\u001b[0m                                 Traceback (most recent call last)",
      "Cell \u001b[0;32mIn[228], line 1\u001b[0m\n\u001b[0;32m----> 1\u001b[0m b\n",
      "\u001b[0;31mNameError\u001b[0m: name 'b' is not defined"
     ]
    }
   ],
   "source": [
    "b"
   ]
  }
 ],
 "metadata": {
  "kernelspec": {
   "display_name": "Python 3 (ipykernel)",
   "language": "python",
   "name": "python3"
  },
  "language_info": {
   "codemirror_mode": {
    "name": "ipython",
    "version": 3
   },
   "file_extension": ".py",
   "mimetype": "text/x-python",
   "name": "python",
   "nbconvert_exporter": "python",
   "pygments_lexer": "ipython3",
   "version": "3.11.7"
  }
 },
 "nbformat": 4,
 "nbformat_minor": 5
}
