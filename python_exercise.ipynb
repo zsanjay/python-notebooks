{
 "cells": [
  {
   "cell_type": "code",
   "execution_count": 1,
   "id": "78e46d62-a531-4cb9-906e-a428980a0f09",
   "metadata": {},
   "outputs": [],
   "source": [
    "def my_sum(num1, num2):\n",
    "    return num1 + num2"
   ]
  },
  {
   "cell_type": "code",
   "execution_count": 3,
   "id": "fa83e5e2-934c-4a4b-af47-8310a1e7f82b",
   "metadata": {},
   "outputs": [
    {
     "name": "stdout",
     "output_type": "stream",
     "text": [
      "3\n"
     ]
    }
   ],
   "source": [
    "print(my_sum(1, 2))"
   ]
  },
  {
   "cell_type": "code",
   "execution_count": 17,
   "id": "f48055e1-1836-4fef-91e0-55625ea65382",
   "metadata": {},
   "outputs": [],
   "source": [
    "my_list = [5, 7, 8, 2, 5, 9]"
   ]
  },
  {
   "cell_type": "code",
   "execution_count": 29,
   "id": "8549ee14-8420-4847-946e-1d80936873a1",
   "metadata": {},
   "outputs": [],
   "source": [
    "def doubler(x):\n",
    "    return 2 * x"
   ]
  },
  {
   "cell_type": "code",
   "execution_count": 31,
   "id": "5972c33d-4100-4574-994a-cfb776127759",
   "metadata": {},
   "outputs": [],
   "source": [
    "doubled = list(map(doubler, my_list))"
   ]
  },
  {
   "cell_type": "code",
   "execution_count": 33,
   "id": "ece40611-0df4-4ce8-8214-7053f21e267c",
   "metadata": {},
   "outputs": [
    {
     "name": "stdout",
     "output_type": "stream",
     "text": [
      "[10, 14, 16, 4, 10, 18]\n"
     ]
    }
   ],
   "source": [
    "print(doubled)"
   ]
  },
  {
   "cell_type": "code",
   "execution_count": 35,
   "id": "62415da5-42f9-416e-92bf-adc5626e5927",
   "metadata": {},
   "outputs": [],
   "source": [
    "output = list(map(lambda x : 2 * x, my_list))"
   ]
  },
  {
   "cell_type": "code",
   "execution_count": 37,
   "id": "657238c2-3b6c-4683-a07d-a67c569a8259",
   "metadata": {},
   "outputs": [
    {
     "name": "stdout",
     "output_type": "stream",
     "text": [
      "[10, 14, 16, 4, 10, 18]\n"
     ]
    }
   ],
   "source": [
    "print(output)"
   ]
  },
  {
   "cell_type": "code",
   "execution_count": 41,
   "id": "077521c7-2ef2-441f-b29f-a3fcdb84f818",
   "metadata": {},
   "outputs": [],
   "source": [
    "from functools import reduce\n",
    "\n",
    "total = reduce(lambda x,y : x + y, my_list)"
   ]
  },
  {
   "cell_type": "code",
   "execution_count": 43,
   "id": "610a6183-ce5d-4385-9f80-c2fb8c94a194",
   "metadata": {},
   "outputs": [
    {
     "name": "stdout",
     "output_type": "stream",
     "text": [
      "36\n"
     ]
    }
   ],
   "source": [
    "print(total)"
   ]
  },
  {
   "cell_type": "markdown",
   "id": "9d0496ea-dd6f-4006-82c3-675a45e9a3b2",
   "metadata": {},
   "source": [
    "Sum using function"
   ]
  },
  {
   "cell_type": "code",
   "execution_count": 48,
   "id": "00c06c06-50f1-4760-8b74-f872266c38d9",
   "metadata": {},
   "outputs": [],
   "source": [
    "def sumlist(x):\n",
    "    total = 0\n",
    "    for i in x:\n",
    "        total = total + i\n",
    "    return total    "
   ]
  },
  {
   "cell_type": "code",
   "execution_count": 50,
   "id": "5661edb7-e63b-4613-8e17-d9ba4fc8316e",
   "metadata": {},
   "outputs": [
    {
     "name": "stdout",
     "output_type": "stream",
     "text": [
      "36\n"
     ]
    }
   ],
   "source": [
    "print(sumlist(my_list))"
   ]
  },
  {
   "cell_type": "code",
   "execution_count": null,
   "id": "64297ce6-afb1-4aab-a0ab-c82708d7951c",
   "metadata": {},
   "outputs": [],
   "source": [
    " "
   ]
  }
 ],
 "metadata": {
  "kernelspec": {
   "display_name": "Python 3 (ipykernel)",
   "language": "python",
   "name": "python3"
  },
  "language_info": {
   "codemirror_mode": {
    "name": "ipython",
    "version": 3
   },
   "file_extension": ".py",
   "mimetype": "text/x-python",
   "name": "python",
   "nbconvert_exporter": "python",
   "pygments_lexer": "ipython3",
   "version": "3.11.7"
  }
 },
 "nbformat": 4,
 "nbformat_minor": 5
}
