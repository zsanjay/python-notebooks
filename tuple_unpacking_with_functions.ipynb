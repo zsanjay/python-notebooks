{
 "cells": [
  {
   "cell_type": "code",
   "execution_count": 1,
   "id": "64a58cbf-df61-41c5-80e9-a078ac35a78a",
   "metadata": {},
   "outputs": [],
   "source": [
    "stock_prices = [('APPL' , 200),('GOOG', 400),('MSFT',600)]"
   ]
  },
  {
   "cell_type": "code",
   "execution_count": 3,
   "id": "44bb25a0-a157-491d-aecd-a62905a566e2",
   "metadata": {},
   "outputs": [
    {
     "name": "stdout",
     "output_type": "stream",
     "text": [
      "('APPL', 200)\n",
      "('GOOG', 400)\n",
      "('MSFT', 600)\n"
     ]
    }
   ],
   "source": [
    "for price in stock_prices:\n",
    "    print(price)"
   ]
  },
  {
   "cell_type": "code",
   "execution_count": 5,
   "id": "247ef618-3db6-478d-b9dc-ddb7b3a5a937",
   "metadata": {},
   "outputs": [
    {
     "name": "stdout",
     "output_type": "stream",
     "text": [
      "APPL\n",
      "GOOG\n",
      "MSFT\n"
     ]
    }
   ],
   "source": [
    "for ticker,price in stock_prices:\n",
    "    print(ticker)"
   ]
  },
  {
   "cell_type": "code",
   "execution_count": 7,
   "id": "fc6ec370-368d-4cc9-9930-d4c9cf8b508c",
   "metadata": {},
   "outputs": [
    {
     "name": "stdout",
     "output_type": "stream",
     "text": [
      "220.0\n",
      "440.0\n",
      "660.0\n"
     ]
    }
   ],
   "source": [
    "for ticker,price in stock_prices:\n",
    "    print(price + (0.1 * price))"
   ]
  },
  {
   "cell_type": "code",
   "execution_count": 17,
   "id": "3dc67973-ac88-4f0c-9dfb-cec2885ff896",
   "metadata": {},
   "outputs": [],
   "source": [
    "work_hours = [('Abby',100),('Billy',4000),('Cassie',800)]"
   ]
  },
  {
   "cell_type": "code",
   "execution_count": 13,
   "id": "14200ebf-89ae-47a9-9307-2eba5d737624",
   "metadata": {},
   "outputs": [],
   "source": [
    "def employee_with_max_hours(work_hours):\n",
    "    current_max = 0\n",
    "    employee_of_the_month = ''\n",
    "\n",
    "    for employee,hours in work_hours:\n",
    "        if hours > current_max:\n",
    "            current_max = hours\n",
    "            employee_of_the_month = employee\n",
    "        else:\n",
    "            pass\n",
    "\n",
    "    return (employee_of_the_month , current_max)\n",
    "    "
   ]
  },
  {
   "cell_type": "code",
   "execution_count": 23,
   "id": "d722d57d-5889-490d-9c00-9328cdb6df7d",
   "metadata": {},
   "outputs": [
    {
     "name": "stdout",
     "output_type": "stream",
     "text": [
      "Billy\n",
      "4000\n"
     ]
    }
   ],
   "source": [
    "name,hours = employee_with_max_hours(work_hours)\n",
    "print(name)\n",
    "print(hours)"
   ]
  },
  {
   "cell_type": "code",
   "execution_count": 25,
   "id": "454e2911-2281-4dc8-becc-8b71eb244fc6",
   "metadata": {},
   "outputs": [
    {
     "ename": "ValueError",
     "evalue": "not enough values to unpack (expected 3, got 2)",
     "output_type": "error",
     "traceback": [
      "\u001b[0;31m---------------------------------------------------------------------------\u001b[0m",
      "\u001b[0;31mValueError\u001b[0m                                Traceback (most recent call last)",
      "Cell \u001b[0;32mIn[25], line 1\u001b[0m\n\u001b[0;32m----> 1\u001b[0m name,hours,location \u001b[38;5;241m=\u001b[39m employee_with_max_hours(work_hours)\n",
      "\u001b[0;31mValueError\u001b[0m: not enough values to unpack (expected 3, got 2)"
     ]
    }
   ],
   "source": [
    "name,hours,location = employee_with_max_hours(work_hours)"
   ]
  }
 ],
 "metadata": {
  "kernelspec": {
   "display_name": "Python 3 (ipykernel)",
   "language": "python",
   "name": "python3"
  },
  "language_info": {
   "codemirror_mode": {
    "name": "ipython",
    "version": 3
   },
   "file_extension": ".py",
   "mimetype": "text/x-python",
   "name": "python",
   "nbconvert_exporter": "python",
   "pygments_lexer": "ipython3",
   "version": "3.11.7"
  }
 },
 "nbformat": 4,
 "nbformat_minor": 5
}
